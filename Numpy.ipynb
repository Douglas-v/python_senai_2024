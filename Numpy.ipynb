{
  "nbformat": 4,
  "nbformat_minor": 0,
  "metadata": {
    "colab": {
      "provenance": [],
      "authorship_tag": "ABX9TyOrhkNP9nAUxrhoenZUBzrx",
      "include_colab_link": true
    },
    "kernelspec": {
      "name": "python3",
      "display_name": "Python 3"
    },
    "language_info": {
      "name": "python"
    }
  },
  "cells": [
    {
      "cell_type": "markdown",
      "metadata": {
        "id": "view-in-github",
        "colab_type": "text"
      },
      "source": [
        "<a href=\"https://colab.research.google.com/github/Douglas-v/python_senai_2024/blob/main/Numpy.ipynb\" target=\"_parent\"><img src=\"https://colab.research.google.com/assets/colab-badge.svg\" alt=\"Open In Colab\"/></a>"
      ]
    },
    {
      "cell_type": "code",
      "execution_count": null,
      "metadata": {
        "colab": {
          "base_uri": "https://localhost:8080/"
        },
        "id": "-oSsb8h2Chqe",
        "outputId": "b5ab979a-62af-4acf-a732-7315b57b0d34"
      },
      "outputs": [
        {
          "output_type": "stream",
          "name": "stdout",
          "text": [
            "0.3\n",
            "0.2\n",
            "0.5\n"
          ]
        }
      ],
      "source": [
        "#analise para produção de goiaba\n",
        "\n",
        "w1, w2, w3 = 0.3, 0.2, 0.5\n",
        "\n",
        "print(w1)\n",
        "print(w2)\n",
        "print(w3)"
      ]
    },
    {
      "cell_type": "code",
      "source": [
        "#dados da região A\n",
        "regiaoA_temp = 22\n",
        "regiaoA_chuva = 67\n",
        "regiaoA_umid = 65\n",
        "\n",
        "#aplicando no modelos\n",
        "reiaoA_goiaba = regiaoA_temp*w1 + regiaoA_chuva*w2 + regiaoA_umid*w3\n",
        "print('Na região A, a produção de goiaba é de',reiaoA_goiaba,'toneladas por hectare.')"
      ],
      "metadata": {
        "colab": {
          "base_uri": "https://localhost:8080/"
        },
        "id": "2MNZchd3G71N",
        "outputId": "cbd6a60b-5d74-4ac9-c362-2869923cb24d"
      },
      "execution_count": null,
      "outputs": [
        {
          "output_type": "stream",
          "name": "stdout",
          "text": [
            "Na região A, a produção de goiaba é de 52.5 toneladas por hectare.\n"
          ]
        }
      ]
    },
    {
      "cell_type": "code",
      "source": [
        "#Fazendo com lista\n",
        "\n",
        "regiaoA = [22, 67, 65]\n",
        "regiaoB = [24, 88, 95]\n",
        "regiaoC = [17, 134, 50]\n",
        "regiaoD = [18, 96, 70]\n",
        "\n",
        "pesos = [w1, w2, w3]"
      ],
      "metadata": {
        "id": "5fRc1AeCJFP-"
      },
      "execution_count": null,
      "outputs": []
    },
    {
      "cell_type": "code",
      "source": [
        "def producao_goiaba(regiao, pesos):\n",
        "  result = 0\n",
        "  for x, w in zip(regiao, pesos):\n",
        "    result += x*w\n",
        "  return result\n"
      ],
      "metadata": {
        "id": "rcyOw8ISLh7t"
      },
      "execution_count": null,
      "outputs": []
    },
    {
      "cell_type": "code",
      "source": [
        "  #produção da regiao A\n",
        "  print(producao_goiaba(regiaoA, pesos))\n",
        "\n",
        "  #produção regiao B\n",
        "  print(producao_goiaba(regiaoB,pesos))\n",
        "\n",
        "    #produção regiao C\n",
        "  print(producao_goiaba(regiaoC,pesos))\n",
        "\n",
        "    #produção regiao D\n",
        "  print(producao_goiaba(regiaoD,pesos))"
      ],
      "metadata": {
        "colab": {
          "base_uri": "https://localhost:8080/"
        },
        "id": "ZwB5MaYZMaxN",
        "outputId": "0b1d8308-a868-4077-ffe6-cc0d5097dff1"
      },
      "execution_count": null,
      "outputs": [
        {
          "output_type": "stream",
          "name": "stdout",
          "text": [
            "52.5\n",
            "72.3\n",
            "56.9\n",
            "59.6\n"
          ]
        }
      ]
    },
    {
      "cell_type": "code",
      "source": [
        "#usando numpy - pode-se digitar os valores completos, mas como já declarei anteriormente, só vou converter\n",
        "\n",
        "import numpy as np\n",
        "\n",
        "regiaoA_ = np.array(regiaoA)\n",
        "pesos_ = np.array(pesos)\n",
        "\n",
        "print(type(regiaoA_))\n",
        "print(type(pesos_))"
      ],
      "metadata": {
        "colab": {
          "base_uri": "https://localhost:8080/"
        },
        "id": "QPNF0LL_N8jF",
        "outputId": "5ef5a520-f335-4e95-cf20-b95585d26d44"
      },
      "execution_count": null,
      "outputs": [
        {
          "output_type": "stream",
          "name": "stdout",
          "text": [
            "<class 'numpy.ndarray'>\n",
            "<class 'numpy.ndarray'>\n"
          ]
        }
      ]
    },
    {
      "cell_type": "code",
      "source": [
        "reg_a = np.dot(regiaoA_,pesos_)\n",
        "print('Regiao A:',reg_a)"
      ],
      "metadata": {
        "colab": {
          "base_uri": "https://localhost:8080/"
        },
        "id": "7HiM4yNyPiQ2",
        "outputId": "4d83b444-3b73-4cb2-f836-5fc31f928aa0"
      },
      "execution_count": null,
      "outputs": [
        {
          "output_type": "stream",
          "name": "stdout",
          "text": [
            "Regiao A: 52.5\n"
          ]
        }
      ]
    },
    {
      "cell_type": "code",
      "source": [
        "#Exemplo - APlicando Numpy\n",
        "\n",
        "#lista Python\n",
        "arr1 = list(range(2000000))\n",
        "arr2 = list(range(1000000,3000000))\n",
        "\n",
        "#vetor em Numpy\n",
        "arr1_np = np.array(arr1)\n",
        "arr2_np = np.array(arr2)"
      ],
      "metadata": {
        "id": "EPQjT0bnQ4Gd"
      },
      "execution_count": null,
      "outputs": []
    },
    {
      "cell_type": "code",
      "source": [
        "%%time\n",
        "result = 0\n",
        "for x1, x2 in zip(arr1, arr2):\n",
        "  result += x1*x2\n",
        "print(result)"
      ],
      "metadata": {
        "colab": {
          "base_uri": "https://localhost:8080/"
        },
        "id": "6Uk_wyjSSg09",
        "outputId": "49a9719a-bd0d-469f-900b-f7f232c63a7a"
      },
      "execution_count": null,
      "outputs": [
        {
          "output_type": "stream",
          "name": "stdout",
          "text": [
            "4666663666667000000\n",
            "CPU times: user 418 ms, sys: 0 ns, total: 418 ms\n",
            "Wall time: 419 ms\n"
          ]
        }
      ]
    },
    {
      "cell_type": "code",
      "source": [
        "%%time\n",
        "print(np.dot(arr1_np,arr2_np))"
      ],
      "metadata": {
        "colab": {
          "base_uri": "https://localhost:8080/"
        },
        "id": "dO6vuv-mSwrl",
        "outputId": "f5c0bc26-424c-4a90-b6e0-51f81ae917b4"
      },
      "execution_count": null,
      "outputs": [
        {
          "output_type": "stream",
          "name": "stdout",
          "text": [
            "4666663666667000000\n",
            "CPU times: user 6.8 ms, sys: 0 ns, total: 6.8 ms\n",
            "Wall time: 7.88 ms\n"
          ]
        }
      ]
    },
    {
      "cell_type": "code",
      "source": [
        "#Matrizes\n",
        "dados_climaticos = np.array([[22,67,65],[22,88,95],[17,134,50],[18,96,70],])\n",
        "print(dados_climaticos)"
      ],
      "metadata": {
        "colab": {
          "base_uri": "https://localhost:8080/"
        },
        "id": "vB9fHrtYU8gE",
        "outputId": "9d0afd99-2b42-4705-c699-b72d11b60806"
      },
      "execution_count": null,
      "outputs": [
        {
          "output_type": "stream",
          "name": "stdout",
          "text": [
            "[[ 22  67  65]\n",
            " [ 22  88  95]\n",
            " [ 17 134  50]\n",
            " [ 18  96  70]]\n"
          ]
        }
      ]
    },
    {
      "cell_type": "code",
      "source": [
        "#Matriz 3D\n",
        "arr3 = np.array([[[11,12,13],[13,1,15]],\n",
        "                [[15,16,17],[17,18,19.5]]])\n",
        "print(arr3.shape)"
      ],
      "metadata": {
        "colab": {
          "base_uri": "https://localhost:8080/"
        },
        "id": "B5i1op-fWZeF",
        "outputId": "23277f8d-5e45-4deb-fb71-b2877ee8156f"
      },
      "execution_count": null,
      "outputs": [
        {
          "output_type": "stream",
          "name": "stdout",
          "text": [
            "(2, 2, 3)\n"
          ]
        }
      ]
    },
    {
      "cell_type": "code",
      "source": [
        "print(pesos_.dtype)\n",
        "print(\"--------\")\n",
        "print(dados_climaticos.dtype)"
      ],
      "metadata": {
        "colab": {
          "base_uri": "https://localhost:8080/"
        },
        "id": "yl6gWgGhbzSu",
        "outputId": "2e1b310f-da2c-4bd7-ceb4-0f2118b6b69b"
      },
      "execution_count": null,
      "outputs": [
        {
          "output_type": "stream",
          "name": "stdout",
          "text": [
            "float64\n",
            "--------\n",
            "int64\n"
          ]
        }
      ]
    },
    {
      "cell_type": "code",
      "source": [
        "#Realizar as operações com matmul (@)\n",
        "np.matmul(dados_climaticos, pesos_)\n",
        "dados_climaticos @ pesos_"
      ],
      "metadata": {
        "colab": {
          "base_uri": "https://localhost:8080/"
        },
        "id": "NVXaCdrlddVl",
        "outputId": "e5c01a16-2f1d-414a-9b3e-f3a53a666b42"
      },
      "execution_count": null,
      "outputs": [
        {
          "output_type": "execute_result",
          "data": {
            "text/plain": [
              "array([52.5, 71.7, 56.9, 59.6])"
            ]
          },
          "metadata": {},
          "execution_count": 25
        }
      ]
    },
    {
      "cell_type": "code",
      "source": [
        "goiaba_csv = np.genfromtxt('/content/Pasta1.csv',delimiter=',',skip_header=1)\n",
        "goiaba_csv\n"
      ],
      "metadata": {
        "colab": {
          "base_uri": "https://localhost:8080/"
        },
        "id": "21nyZTb7gwU1",
        "outputId": "d23550bf-d89e-4476-a095-ae8e7ef53d88"
      },
      "execution_count": null,
      "outputs": [
        {
          "output_type": "execute_result",
          "data": {
            "text/plain": [
              "array([[24., 20., 21.],\n",
              "       [18., 23., 16.],\n",
              "       [19., 30., 36.]])"
            ]
          },
          "metadata": {},
          "execution_count": 31
        }
      ]
    },
    {
      "cell_type": "code",
      "source": [
        "pesos_ = np.array([0.4,0.2,0.8])\n",
        "\n",
        "rendimento = goiaba_csv@pesos_\n",
        "\n",
        "rendimento"
      ],
      "metadata": {
        "colab": {
          "base_uri": "https://localhost:8080/"
        },
        "id": "gD_TreR9iaCt",
        "outputId": "b9907e29-86a4-4ab6-dd0f-190bf778f38e"
      },
      "execution_count": null,
      "outputs": [
        {
          "output_type": "execute_result",
          "data": {
            "text/plain": [
              "array([30.4, 24.6, 42.4])"
            ]
          },
          "metadata": {},
          "execution_count": 34
        }
      ]
    },
    {
      "cell_type": "code",
      "source": [
        "#Incluindo o resultado na Matriz\n",
        "\n",
        "resultado = np.concatenate((goiaba_csv,rendimento.reshape(3,1)),axis=1)\n",
        "resultado"
      ],
      "metadata": {
        "colab": {
          "base_uri": "https://localhost:8080/"
        },
        "id": "nOhfPfSqjnOt",
        "outputId": "5c36c176-7324-42ad-faf3-9fb5b1a4c39b"
      },
      "execution_count": null,
      "outputs": [
        {
          "output_type": "execute_result",
          "data": {
            "text/plain": [
              "array([[24. , 20. , 21. , 30.4],\n",
              "       [18. , 23. , 16. , 24.6],\n",
              "       [19. , 30. , 36. , 42.4]])"
            ]
          },
          "metadata": {},
          "execution_count": 37
        }
      ]
    },
    {
      "cell_type": "code",
      "source": [
        "np.savetxt('goiaba_resultado.csv',\n",
        "           resultado,\n",
        "           fmt='%.2f',\n",
        "           delimiter=',',\n",
        "           header='temperatura, precipitação, umidade, rendimento',\n",
        "           comments='')"
      ],
      "metadata": {
        "id": "YIlRNWKVlW6V"
      },
      "execution_count": null,
      "outputs": []
    },
    {
      "cell_type": "code",
      "source": [
        "arr2 = np.array([[2,2,3,4],[5,6,7,6],[9,1,2,3]])\n",
        "arr3 = np.array([[11,13,13,14],[10,16,17,18],[19,11,12,10]])\n",
        "\n",
        "arr2 + 3 #Soma/subtração de escalar\n",
        "\n",
        "arr2 * arr3 #multiplicação/divisão entre matrizes\n",
        "\n",
        "arr2 / 2 #multiplicação/divisão de escalar"
      ],
      "metadata": {
        "colab": {
          "base_uri": "https://localhost:8080/"
        },
        "id": "qnR4gDOCnjC1",
        "outputId": "50815df2-f815-4b6a-e919-52955fe41c5b"
      },
      "execution_count": null,
      "outputs": [
        {
          "output_type": "execute_result",
          "data": {
            "text/plain": [
              "array([[1. , 1. , 1.5, 2. ],\n",
              "       [2.5, 3. , 3.5, 3. ],\n",
              "       [4.5, 0.5, 1. , 1.5]])"
            ]
          },
          "metadata": {},
          "execution_count": 45
        }
      ]
    },
    {
      "cell_type": "code",
      "source": [
        "arr1 = np.array([[1,1,1],[3,4,5]])\n",
        "arr2 = np.array([[2,1,3],[1,1,1]])\n",
        "\n",
        "arr1 == arr2\n",
        "\n",
        "arr1 != arr2\n",
        "\n",
        "arr1 > arr2\n",
        "\n",
        "arr1 <= arr2"
      ],
      "metadata": {
        "colab": {
          "base_uri": "https://localhost:8080/"
        },
        "id": "K_Aq0mZ9sWkl",
        "outputId": "22369645-21e6-430b-ec15-4f78d3306b8a"
      },
      "execution_count": null,
      "outputs": [
        {
          "output_type": "execute_result",
          "data": {
            "text/plain": [
              "array([[ True,  True,  True],\n",
              "       [False, False, False]])"
            ]
          },
          "metadata": {},
          "execution_count": 51
        }
      ]
    }
  ]
}