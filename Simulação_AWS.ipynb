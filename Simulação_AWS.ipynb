{
  "nbformat": 4,
  "nbformat_minor": 0,
  "metadata": {
    "colab": {
      "provenance": [],
      "authorship_tag": "ABX9TyOjC++OF0DyNlKRxfDggsc7",
      "include_colab_link": true
    },
    "kernelspec": {
      "name": "python3",
      "display_name": "Python 3"
    },
    "language_info": {
      "name": "python"
    }
  },
  "cells": [
    {
      "cell_type": "markdown",
      "metadata": {
        "id": "view-in-github",
        "colab_type": "text"
      },
      "source": [
        "<a href=\"https://colab.research.google.com/github/Douglas-v/python_senai_2024/blob/main/Simula%C3%A7%C3%A3o_AWS.ipynb\" target=\"_parent\"><img src=\"https://colab.research.google.com/assets/colab-badge.svg\" alt=\"Open In Colab\"/></a>"
      ]
    },
    {
      "cell_type": "code",
      "execution_count": null,
      "metadata": {
        "id": "YhVXZ-FnD-DL",
        "colab": {
          "base_uri": "https://localhost:8080/"
        },
        "outputId": "7625aff2-c726-421a-9465-7db9e23879bd"
      },
      "outputs": [
        {
          "output_type": "stream",
          "name": "stdout",
          "text": [
            "{\n",
            "    \"statusCode\": 200,\n",
            "    \"body\": \"Voce disse: ola, Lambda!\"\n",
            "}\n"
          ]
        }
      ],
      "source": [
        "# Defninção na função lambda simulada\n",
        "def lambda_hendler(event, context):\n",
        "  \"\"\"Função lambda simulada\"\"\"\n",
        "  message = event.get('message', 'Nenhuma mensagem fornecida')\n",
        "  return {\n",
        "      'statusCode': 200,\n",
        "      'body': f'Voce disse: {message}'\n",
        "  }\n",
        "\n",
        "  # Definição da classe de contexto lambda simulada\n",
        "class LambdaContext:\n",
        "  def __init__(self, function_name, memory_limit_in_mb, timeout_in_seconds):\n",
        "      self.function_name = function_name\n",
        "      self.memory_limit_in_mb = memory_limit_in_mb\n",
        "      self.timeout_in_seconds = timeout_in_seconds\n",
        "      self.aws_request_id = '1234567890'\n",
        "\n",
        "  def get_remaining_time_in_millis(self):\n",
        "      #simula o tempo restante em milisegundos\n",
        "      return self.timeout_in_seconds * 1000000\n",
        "\n",
        "\n",
        "import json\n",
        "\n",
        "def simulate_lambda_invocation(event):\n",
        "  #criar um contec5to lambda simulado\n",
        "  context = LambdaContext(\n",
        "    function_name='my_lambda_function',\n",
        "    memory_limit_in_mb=128,\n",
        "    timeout_in_seconds=30\n",
        "    )\n",
        "\n",
        "    #invocando a função lambda com o evento fornecido e o contexto simulado\n",
        "  response = lambda_hendler(event, context)\n",
        "\n",
        "    #retornando a resposta em formato JSON\n",
        "  print(json.dumps(response,indent=4))\n",
        "\n",
        "    #evento de exemplo\n",
        "event = {\n",
        "        'message': 'ola, Lambda!'\n",
        "    }\n",
        "\n",
        "simulate_lambda_invocation(event)"
      ]
    },
    {
      "cell_type": "code",
      "source": [
        "from google.colab import userdata\n",
        "#userdata.get('email')\n",
        "\n",
        "import smtplib\n",
        "from email.message import EmailMessage\n",
        "\n",
        "def lambda_hendler(event, context):\n",
        "  \"\"\"Função lambda simulada para enviar email\"\"\"\n",
        "  sender = event.get('sender')\n",
        "  recipient = event.get('recipient')\n",
        "  subject = event.get('subject')\n",
        "  body = event.get('body')\n",
        "\n",
        "  if not all([sender, recipient, subject, body]):\n",
        "    return {\n",
        "        'statusCode': 400,\n",
        "        'body': 'Parametros faltando'\n",
        "    }\n",
        "\n",
        "  #criação da mensagem de email\n",
        "  msg = EmailMessage()\n",
        "  msg['Subject'] = subject\n",
        "  msg['From'] = sender\n",
        "  msg['To'] = recipient\n",
        "  msg.set_content('body')\n",
        "\n",
        "  try:\n",
        "      #conexão com o servidor SMTP(exemplo Gmail)\n",
        "      with smtplib.SMTP_SSL('smtp.gmail.com', 465) as server:\n",
        "        server.login(userdata.get('email'),userdata.get('senha'))\n",
        "        server.send_message(msg)\n",
        "\n",
        "      return {\n",
        "        'statusCode': 200,\n",
        "        'body': 'Email enviado com sucesso'\n",
        "    }\n",
        "\n",
        "  except Exception as e:\n",
        "      return {\n",
        "        'statusCode': 500,\n",
        "        'body': f'Erro ao enviar email: {str(e)}'\n",
        "    }"
      ],
      "metadata": {
        "id": "65VpMMUG8fTV"
      },
      "execution_count": null,
      "outputs": []
    },
    {
      "cell_type": "code",
      "source": [
        "class LambdaContext:\n",
        "  def __init__(self, function_name, memory_limit_in_mb, timeout_in_seconds):\n",
        "    self.funcion_name = function_name\n",
        "    self.memory_limit_in_mb = memory_limit_in_mb\n",
        "    self.timeout_in_seconds = timeout_in_seconds\n",
        "    self.aws_request_id = '1234567890'\n",
        "\n",
        "  def get_remaining_time_in_millis(self):\n",
        "    #simulando o tempo restante (em milisegundos)\n",
        "    return self.timeout_in_seconds * 1000"
      ],
      "metadata": {
        "id": "b0Pli6hyCuO3"
      },
      "execution_count": null,
      "outputs": []
    },
    {
      "cell_type": "code",
      "source": [
        "import json\n",
        "def simulate_lambda_invocation(event):\n",
        "  #criar um contexto lambda simulado\n",
        "  context = LambdaContext(\n",
        "    function_name='my_lambda_function',\n",
        "    memory_limit_in_mb=128,\n",
        "    timeout_in_seconds=3\n",
        "  )\n",
        "\n",
        "  #invoca a função lambda com o evento fornecido e o contexto simulado\n",
        "  response = lambda_hendler(event, context)\n",
        "\n",
        "  #retornar a resposta em formato JSON\n",
        "  print(json.dumps(response, indent=4))\n",
        "\n",
        "  #evento de exemplo\n",
        "  event = {\n",
        "      'sender': userdata.get('email'),\n",
        "      'recipient': userdata.get('email'),\n",
        "      'subject': 'Teste de email',\n",
        "      'body': 'Este é um teste de email enviado pela função lambda simulada.'\n",
        "  }\n",
        "\n",
        "#aguardar = 1\n",
        "#s3 = input('Carregou o arquivo? (S/N)')\n",
        "\n",
        "#while aguardar ==1:\n",
        " # if s3.upper() == 'S':\n",
        "    #simulate_lambda_invocation(event)\n",
        "   # aguardar = 0\n",
        " # else:\n",
        "  #  s3 = input('Carregou o arquivo? (S/N)')\n",
        "\n",
        "simulate_lambda_invocation(event)"
      ],
      "metadata": {
        "colab": {
          "base_uri": "https://localhost:8080/",
          "height": 391
        },
        "id": "J4N1fl9JKS3s",
        "outputId": "849fab5a-a1b2-4908-9288-f56d7aea85e4"
      },
      "execution_count": null,
      "outputs": [
        {
          "output_type": "stream",
          "name": "stdout",
          "text": [
            "{\n",
            "    \"statusCode\": 500,\n",
            "    \"body\": \"Erro ao enviar email: Secret email does not exist.\"\n",
            "}\n"
          ]
        },
        {
          "output_type": "error",
          "ename": "SecretNotFoundError",
          "evalue": "Secret email does not exist.",
          "traceback": [
            "\u001b[0;31m---------------------------------------------------------------------------\u001b[0m",
            "\u001b[0;31mSecretNotFoundError\u001b[0m                       Traceback (most recent call last)",
            "\u001b[0;32m<ipython-input-35-6c66421182a6>\u001b[0m in \u001b[0;36m<cell line: 34>\u001b[0;34m()\u001b[0m\n\u001b[1;32m     32\u001b[0m   \u001b[0;31m#  s3 = input('Carregou o arquivo? (S/N)')\u001b[0m\u001b[0;34m\u001b[0m\u001b[0;34m\u001b[0m\u001b[0m\n\u001b[1;32m     33\u001b[0m \u001b[0;34m\u001b[0m\u001b[0m\n\u001b[0;32m---> 34\u001b[0;31m \u001b[0msimulate_lambda_invocation\u001b[0m\u001b[0;34m(\u001b[0m\u001b[0mevent\u001b[0m\u001b[0;34m)\u001b[0m\u001b[0;34m\u001b[0m\u001b[0;34m\u001b[0m\u001b[0m\n\u001b[0m",
            "\u001b[0;32m<ipython-input-35-6c66421182a6>\u001b[0m in \u001b[0;36msimulate_lambda_invocation\u001b[0;34m(event)\u001b[0m\n\u001b[1;32m     16\u001b[0m   \u001b[0;31m#evento de exemplo\u001b[0m\u001b[0;34m\u001b[0m\u001b[0;34m\u001b[0m\u001b[0m\n\u001b[1;32m     17\u001b[0m   event = {\n\u001b[0;32m---> 18\u001b[0;31m       \u001b[0;34m'sender'\u001b[0m\u001b[0;34m:\u001b[0m \u001b[0muserdata\u001b[0m\u001b[0;34m.\u001b[0m\u001b[0mget\u001b[0m\u001b[0;34m(\u001b[0m\u001b[0;34m'email'\u001b[0m\u001b[0;34m)\u001b[0m\u001b[0;34m,\u001b[0m\u001b[0;34m\u001b[0m\u001b[0;34m\u001b[0m\u001b[0m\n\u001b[0m\u001b[1;32m     19\u001b[0m       \u001b[0;34m'recipient'\u001b[0m\u001b[0;34m:\u001b[0m \u001b[0muserdata\u001b[0m\u001b[0;34m.\u001b[0m\u001b[0mget\u001b[0m\u001b[0;34m(\u001b[0m\u001b[0;34m'email'\u001b[0m\u001b[0;34m)\u001b[0m\u001b[0;34m,\u001b[0m\u001b[0;34m\u001b[0m\u001b[0;34m\u001b[0m\u001b[0m\n\u001b[1;32m     20\u001b[0m       \u001b[0;34m'subject'\u001b[0m\u001b[0;34m:\u001b[0m \u001b[0;34m'Teste de email'\u001b[0m\u001b[0;34m,\u001b[0m\u001b[0;34m\u001b[0m\u001b[0;34m\u001b[0m\u001b[0m\n",
            "\u001b[0;32m/usr/local/lib/python3.10/dist-packages/google/colab/userdata.py\u001b[0m in \u001b[0;36mget\u001b[0;34m(key)\u001b[0m\n\u001b[1;32m     51\u001b[0m     )\n\u001b[1;32m     52\u001b[0m   \u001b[0;32mif\u001b[0m \u001b[0;32mnot\u001b[0m \u001b[0mresp\u001b[0m\u001b[0;34m.\u001b[0m\u001b[0mget\u001b[0m\u001b[0;34m(\u001b[0m\u001b[0;34m'exists'\u001b[0m\u001b[0;34m,\u001b[0m \u001b[0;32mFalse\u001b[0m\u001b[0;34m)\u001b[0m\u001b[0;34m:\u001b[0m\u001b[0;34m\u001b[0m\u001b[0;34m\u001b[0m\u001b[0m\n\u001b[0;32m---> 53\u001b[0;31m     \u001b[0;32mraise\u001b[0m \u001b[0mSecretNotFoundError\u001b[0m\u001b[0;34m(\u001b[0m\u001b[0mkey\u001b[0m\u001b[0;34m)\u001b[0m\u001b[0;34m\u001b[0m\u001b[0;34m\u001b[0m\u001b[0m\n\u001b[0m\u001b[1;32m     54\u001b[0m   \u001b[0;32mif\u001b[0m \u001b[0;32mnot\u001b[0m \u001b[0mresp\u001b[0m\u001b[0;34m.\u001b[0m\u001b[0mget\u001b[0m\u001b[0;34m(\u001b[0m\u001b[0;34m'access'\u001b[0m\u001b[0;34m,\u001b[0m \u001b[0;32mFalse\u001b[0m\u001b[0;34m)\u001b[0m\u001b[0;34m:\u001b[0m\u001b[0;34m\u001b[0m\u001b[0;34m\u001b[0m\u001b[0m\n\u001b[1;32m     55\u001b[0m     \u001b[0;32mraise\u001b[0m \u001b[0mNotebookAccessError\u001b[0m\u001b[0;34m(\u001b[0m\u001b[0mkey\u001b[0m\u001b[0;34m)\u001b[0m\u001b[0;34m\u001b[0m\u001b[0;34m\u001b[0m\u001b[0m\n",
            "\u001b[0;31mSecretNotFoundError\u001b[0m: Secret email does not exist."
          ]
        }
      ]
    },
    {
      "cell_type": "code",
      "source": [
        "from google.colab import userdata\n",
        "\n",
        "import smtplib\n",
        "from email.message import EmailMessage\n",
        "\n",
        "def lambda_handler(event, context):\n",
        "    \"\"\"Função Lambda Simulada para Enviar Email\"\"\"\n",
        "    sender = event.get('sender')\n",
        "    recipient = event.get('recipient')\n",
        "    subject = event.get('subject')\n",
        "    body = event.get('body')\n",
        "\n",
        "    if not all([sender, recipient, subject, body]):\n",
        "        return {\n",
        "            'statusCode': 400,\n",
        "            'body': 'Parâmetros de email faltando'\n",
        "        }\n",
        "\n",
        "    # Criação da mensagem de email\n",
        "    msg = EmailMessage()\n",
        "    msg['From'] = sender\n",
        "    msg['To'] = recipient\n",
        "    msg['Subject'] = subject\n",
        "    msg.set_content(body)\n",
        "\n",
        "    try:\n",
        "        # Configura o servidor SMTP (exemplo com Gmail)\n",
        "        with smtplib.SMTP_SSL('smtp.gmail.com', 465) as server:\n",
        "            server.login(userdata.get('email'),userdata.get('senha'))\n",
        "            server.send_message(msg)\n",
        "\n",
        "        return {\n",
        "            'statusCode': 200,\n",
        "            'body': 'Email enviado com sucesso'\n",
        "        }\n",
        "    except Exception as e:\n",
        "        return {\n",
        "            'statusCode': 500,\n",
        "            'body': f'Erro ao enviar email: {str(e)}'\n",
        "        }\n",
        "\n",
        "\n",
        "class LambdaContext:\n",
        "    def __init__(self, function_name, memory_limit_in_mb, timeout_in_seconds):\n",
        "        self.function_name = function_name\n",
        "        self.memory_limit_in_mb = memory_limit_in_mb\n",
        "        self.timeout_in_seconds = timeout_in_seconds\n",
        "        self.aws_request_id = '1234567890'\n",
        "\n",
        "    def get_remaining_time_in_millis(self):\n",
        "        # Simula o tempo restante (em milissegundos)\n",
        "        return self.timeout_in_seconds * 1000\n",
        "\n",
        "import json\n",
        "\n",
        "def simulate_lambda_invocation(event):\n",
        "    # Cria um contexto Lambda simulado\n",
        "    context = LambdaContext(function_name='my_lambda_function', memory_limit_in_mb=128, timeout_in_seconds=3)\n",
        "\n",
        "    # Invoca a função Lambda com o evento fornecido e o contexto simulado\n",
        "    response = lambda_handler(event, context)\n",
        "\n",
        "    # Imprime a resposta da função Lambda\n",
        "    print(json.dumps(response, indent=4))\n",
        "\n",
        "# Evento de exemplo\n",
        "event = {\n",
        "    'sender': userdata.get('email'),\n",
        "    'recipient': userdata.get('email'),\n",
        "    'subject': 'Teste de Email',\n",
        "    'body': 'Este é um teste de email enviado pela função Lambda simulada.'\n",
        "}\n",
        "\n",
        "simulate_lambda_invocation(event)"
      ],
      "metadata": {
        "colab": {
          "base_uri": "https://localhost:8080/"
        },
        "id": "fJ9lLWs6WEy0",
        "outputId": "d8ccb65e-cd6c-410a-dc74-a407b6864001"
      },
      "execution_count": null,
      "outputs": [
        {
          "output_type": "stream",
          "name": "stdout",
          "text": [
            "{\n",
            "    \"statusCode\": 200,\n",
            "    \"body\": \"Email enviado com sucesso\"\n",
            "}\n"
          ]
        }
      ]
    }
  ]
}