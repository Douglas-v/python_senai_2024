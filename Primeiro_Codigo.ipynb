{
  "nbformat": 4,
  "nbformat_minor": 0,
  "metadata": {
    "colab": {
      "provenance": [],
      "authorship_tag": "ABX9TyO8TAQFS/HoVfHzu5UF20ZX",
      "include_colab_link": true
    },
    "kernelspec": {
      "name": "python3",
      "display_name": "Python 3"
    },
    "language_info": {
      "name": "python"
    }
  },
  "cells": [
    {
      "cell_type": "markdown",
      "metadata": {
        "id": "view-in-github",
        "colab_type": "text"
      },
      "source": [
        "<a href=\"https://colab.research.google.com/github/Douglas-v/python_senai_2024/blob/main/Primeiro_Codigo.ipynb\" target=\"_parent\"><img src=\"https://colab.research.google.com/assets/colab-badge.svg\" alt=\"Open In Colab\"/></a>"
      ]
    },
    {
      "cell_type": "code",
      "source": [
        "#codigo para verificar a versão do python\n",
        "'''\n",
        "sdfsdfsdf\n",
        "fdsfsd\n",
        "fsdfsd\n",
        "fsdfsdfsd\n",
        "'''\n",
        "!python -V"
      ],
      "metadata": {
        "id": "JpyK3c6cipBC",
        "outputId": "af8e5686-f7ff-4ba3-8eb5-48c6a8ff90bf",
        "colab": {
          "base_uri": "https://localhost:8080/"
        }
      },
      "execution_count": null,
      "outputs": [
        {
          "output_type": "stream",
          "name": "stdout",
          "text": [
            "Python 3.10.12\n"
          ]
        }
      ]
    },
    {
      "cell_type": "code",
      "source": [
        "#operações matematicas\n",
        "\n",
        "print (4+4) #soma\n",
        "print (5-3) #subtração\n",
        "print (5*3) #Multiplicação\n",
        "print (20/5) #divisão\n",
        "print (3**3) #potencia\n",
        "print (17%2) #módulo"
      ],
      "metadata": {
        "colab": {
          "base_uri": "https://localhost:8080/"
        },
        "id": "wSMMWy7snOPL",
        "outputId": "19e5da34-928a-49aa-86eb-586812071ca8"
      },
      "execution_count": null,
      "outputs": [
        {
          "output_type": "stream",
          "name": "stdout",
          "text": [
            "8\n",
            "2\n",
            "15\n",
            "4.0\n",
            "27\n",
            "1\n"
          ]
        }
      ]
    },
    {
      "cell_type": "code",
      "source": [
        "print (type(5.69))\n",
        "print (type('sdfjsd'))\n",
        "print (type(0))"
      ],
      "metadata": {
        "colab": {
          "base_uri": "https://localhost:8080/"
        },
        "id": "C0I7l_e8rYDc",
        "outputId": "6708c661-afeb-4fa1-fe0d-0ffa5afd7b7a"
      },
      "execution_count": null,
      "outputs": [
        {
          "output_type": "stream",
          "name": "stdout",
          "text": [
            "<class 'float'>\n",
            "<class 'str'>\n",
            "<class 'int'>\n"
          ]
        }
      ]
    },
    {
      "cell_type": "code",
      "source": [
        "print (round((10/3.1457871),2))"
      ],
      "metadata": {
        "colab": {
          "base_uri": "https://localhost:8080/"
        },
        "id": "PCTivGiVsyxz",
        "outputId": "31a2719b-3fed-42dc-ad4f-0d67faae2ae1"
      },
      "execution_count": null,
      "outputs": [
        {
          "output_type": "stream",
          "name": "stdout",
          "text": [
            "3.18\n"
          ]
        }
      ]
    },
    {
      "cell_type": "code",
      "source": [
        "# Declarando variáveis\n",
        "velocidade=10\n",
        "tempo=5\n",
        "print(velocidade)\n",
        "print(tempo)\n",
        "distancia=velocidade*tempo\n",
        "print(distancia)"
      ],
      "metadata": {
        "colab": {
          "base_uri": "https://localhost:8080/"
        },
        "id": "r0o4lr3dxDwq",
        "outputId": "073816f1-6036-4f45-b2cf-5beab5a74557"
      },
      "execution_count": null,
      "outputs": [
        {
          "output_type": "stream",
          "name": "stdout",
          "text": [
            "10\n",
            "5\n",
            "50\n"
          ]
        }
      ]
    },
    {
      "cell_type": "code",
      "source": [
        "x=10\n",
        "print(x)\n",
        "print(type(x))\n",
        "\n",
        "x='Hello'\n",
        "print(x)\n",
        "print(type(x))"
      ],
      "metadata": {
        "colab": {
          "base_uri": "https://localhost:8080/"
        },
        "id": "PCNKOTZg0a7a",
        "outputId": "bfaed1ee-5e82-49b7-ae75-96a0555da378"
      },
      "execution_count": null,
      "outputs": [
        {
          "output_type": "stream",
          "name": "stdout",
          "text": [
            "10\n",
            "<class 'int'>\n",
            "Hello\n",
            "<class 'str'>\n"
          ]
        }
      ]
    },
    {
      "cell_type": "code",
      "source": [
        "cidade1, cidade2, cidade3 = 'safsa', 'gvgfhd','sdfssdsds'\n",
        "print(cidade1,cidade2,cidade3)"
      ],
      "metadata": {
        "colab": {
          "base_uri": "https://localhost:8080/"
        },
        "id": "thS1BsuV2qQS",
        "outputId": "6d917e41-bf1f-41b7-cef7-c061c2464387"
      },
      "execution_count": null,
      "outputs": [
        {
          "output_type": "stream",
          "name": "stdout",
          "text": [
            "safsa gvgfhd sdfssdsds\n"
          ]
        }
      ]
    },
    {
      "cell_type": "code",
      "source": [
        "velocidade+(4*100)-distancia\n",
        "primeiro_nome='Douglas'\n",
        "segundo_nome='Vasconcelos'\n",
        "nome_completo=primeiro_nome+' '+segundo_nome\n",
        "print(nome_completo)"
      ],
      "metadata": {
        "colab": {
          "base_uri": "https://localhost:8080/"
        },
        "id": "3yUz99mZ6xR5",
        "outputId": "ebb106c0-a214-4fa2-c157-e0480717368b"
      },
      "execution_count": null,
      "outputs": [
        {
          "output_type": "stream",
          "name": "stdout",
          "text": [
            "Douglas Vasconcelos\n"
          ]
        }
      ]
    },
    {
      "cell_type": "code",
      "source": [
        "#Declarando string\n",
        "dia_da_semana='segunda'\n",
        "mes='Abril'\n",
        "print(dia_da_semana,mes)\n",
        "print(len(dia_da_semana))\n",
        "print(len(mes))\n",
        "\n",
        "#coleta parcial de informações da variável\n",
        "print(dia_da_semana[0:4])\n",
        "print(dia_da_semana[0])\n",
        "print(dia_da_semana[0:-2])\n",
        "#manipulação de caixa\n",
        "print(dia_da_semana.upper())\n",
        "print(dia_da_semana.capitalize())\n",
        "\n",
        "#manipulação de string (substituir)\n",
        "frase='segunDa é tristeza'\n",
        "print(frase.lower().replace('segun','bala').replace('tristeza','top'))\n",
        "print(frase)\n",
        "\n",
        "#contar o número de letras\n",
        "print(frase.count('a'))\n",
        "\n",
        "#quebrar texto em lista de strings\n",
        "frase_split=frase.split(' ')\n",
        "print(frase_split)"
      ],
      "metadata": {
        "colab": {
          "base_uri": "https://localhost:8080/"
        },
        "id": "g56oMCVhUwy3",
        "outputId": "3647b1f8-bbad-46c9-d4a4-3a2628b60d5e"
      },
      "execution_count": null,
      "outputs": [
        {
          "output_type": "stream",
          "name": "stdout",
          "text": [
            "segunda Abril\n",
            "7\n",
            "5\n",
            "segu\n",
            "s\n",
            "segun\n",
            "SEGUNDA\n",
            "Segunda\n",
            "balada é top\n",
            "segunDa é tristeza\n",
            "2\n",
            "['segunDa', 'é', 'tristeza']\n"
          ]
        }
      ]
    },
    {
      "cell_type": "code",
      "source": [
        "#Len para String conta caracteres e para lista conta objetos\n",
        "len(frase_split)\n",
        "\n",
        "#removendo espaços do começo e do fim das frases\n",
        "texto='        qualquer coisa sdfsd qwwq qwqe dssdfsa       '\n",
        "texto_strip=texto.strip(' ')\n",
        "print(texto_strip)\n",
        "\n",
        "#quebra de linha\n",
        "\n",
        "print('o texxto começa aqui...')\n",
        "print('\\n')\n",
        "print('\\n')\n",
        "print('\\n')\n",
        "print('pulei 3 linhas')"
      ],
      "metadata": {
        "colab": {
          "base_uri": "https://localhost:8080/"
        },
        "id": "NnYUy17IJ_yF",
        "outputId": "8055db51-d666-4f0b-d98d-ba57ff093ff4"
      },
      "execution_count": null,
      "outputs": [
        {
          "output_type": "stream",
          "name": "stdout",
          "text": [
            "qualquer coisa sdfsd qwwq qwqe dssdfsa\n",
            "o texxto começa aqui...\n",
            "\n",
            "\n",
            "\n",
            "\n",
            "\n",
            "\n",
            "pulei 3 linhas\n"
          ]
        }
      ]
    },
    {
      "cell_type": "code",
      "source": [
        "nome='Douglas'\n",
        "idade=27\n",
        "futuro=idade+10\n",
        "#primeira forma de printar texto com variaveis embutidas\n",
        "print('Olá '+nome+', '+'você tem '+str(idade)+' anos e daqui 1 década terá '+str(futuro)+' anos.')\n",
        "#segunda forma de printar texto com variaveis embutidas\n",
        "print('Olá %s, você tem %d anos e daqui 1 década terá %d anos.' % (nome, idade, futuro))\n",
        "#terceira forma de printar texto com variaveis embutidas\n",
        "print('Olá {}, você tem {} anos e daqui 1 década terá {} anos.'.format (nome, idade, futuro))\n",
        "#quarta forma de printar texto com variaveis embutidas\n",
        "print(f'Olá {nome}, você tem {idade} anos e daqui 1 década terá {futuro} anos.')\n",
        "#quinta forma de printar texto com variaveis embutidas\n",
        "print('Olá', nome, ', você tem', idade, 'anos e daqui 1 década terá', futuro,'anos.', sep=' ',end='\\n')"
      ],
      "metadata": {
        "colab": {
          "base_uri": "https://localhost:8080/"
        },
        "id": "VRpdq_tsVExi",
        "outputId": "140df731-fed6-4535-da36-57c4dd30e90a"
      },
      "execution_count": null,
      "outputs": [
        {
          "output_type": "stream",
          "name": "stdout",
          "text": [
            "Olá Douglas, você tem 27 anos e daqui 1 década terá 37 anos.\n",
            "Olá Douglas, você tem 27 anos e daqui 1 década terá 37 anos.\n",
            "Olá Douglas, você tem 27 anos e daqui 1 década terá 37 anos.\n",
            "Olá Douglas, você tem 27 anos e daqui 1 década terá 37 anos.\n",
            "Olá Douglas , você tem 27 anos e daqui 1 década terá 37 anos.\n"
          ]
        }
      ]
    },
    {
      "cell_type": "code",
      "source": [
        "nome=input(\"Digite seu nome:\")\n",
        "idade=input(\"Digite sua idade:\")\n",
        "print(f'Olá {nome}, você tem {idade} anos.')"
      ],
      "metadata": {
        "colab": {
          "base_uri": "https://localhost:8080/"
        },
        "id": "6QzQTywQhmzK",
        "outputId": "60f26feb-5bba-4c8a-c698-68466aaa4188"
      },
      "execution_count": null,
      "outputs": [
        {
          "output_type": "stream",
          "name": "stdout",
          "text": [
            "Digite seu nome:Douglas\n",
            "Digite sua idade:27\n",
            "Olá Douglas, você tem 27 anos.\n"
          ]
        }
      ]
    },
    {
      "cell_type": "code",
      "source": [
        "#Faça um input para uma frase e retorne o último caracter.\n",
        "frase=input('Digite uma frase:')\n",
        "print('o último caracter da sua frase é: '+frase[-1])"
      ],
      "metadata": {
        "colab": {
          "base_uri": "https://localhost:8080/"
        },
        "id": "Ji5kgYiRjQwJ",
        "outputId": "dbf3e280-f15a-4cd4-c03b-5e44c400de93"
      },
      "execution_count": null,
      "outputs": [
        {
          "output_type": "stream",
          "name": "stdout",
          "text": [
            "Digite uma frase:senai valinhos\n",
            "o último caracter da sua frase é: s\n"
          ]
        }
      ]
    },
    {
      "cell_type": "code",
      "source": [
        "#Faça um código que solicite uma frase, variável chamada \"nova_palavra\" e \"antiga_palavra\". realize a substituição e apresente o resultudo\n",
        "frase=input('Digite uma frase: ')\n",
        "nova_palavra=input('Digite uma palavra para substituição: ')\n",
        "antiga_palavra=input('Digite qual palavra deve ser substituida: ')\n",
        "print(frase.replace(antiga_palavra, nova_palavra))"
      ],
      "metadata": {
        "colab": {
          "base_uri": "https://localhost:8080/"
        },
        "id": "ryFM9uSbob4S",
        "outputId": "2610b581-87f9-4a27-a663-8f4706fba6ad"
      },
      "execution_count": null,
      "outputs": [
        {
          "output_type": "stream",
          "name": "stdout",
          "text": [
            "Digite uma frase: eu ggg ttt ojdsansda\n",
            "Digite uma palavra para substituição: eee\n",
            "Digite qual palavra deve ser substituida: ggg\n",
            "20\n"
          ]
        }
      ]
    },
    {
      "cell_type": "code",
      "source": [
        "#Faça um código que solicite um número e o armazene na variavel A. Em seguida, faça outra solicitação e armazeno o número na variável B. Realize a soma dos dois e apresente o resultado na tela\n",
        "print('Operação de soma')\n",
        "A=float(input ('Digite um número: '))\n",
        "B=float(input ('Digite outro número: '))\n",
        "resultado= A+B\n",
        "print(resultado)"
      ],
      "metadata": {
        "colab": {
          "base_uri": "https://localhost:8080/"
        },
        "id": "Ob2QDB_e0NV8",
        "outputId": "89107390-d5a4-46e6-a5ac-fd9c665cda32"
      },
      "execution_count": null,
      "outputs": [
        {
          "output_type": "stream",
          "name": "stdout",
          "text": [
            "Operação de soma\n",
            "Digite um número: 10\n",
            "Digite outro número: 10\n",
            "20.0\n"
          ]
        }
      ]
    },
    {
      "cell_type": "markdown",
      "source": [
        "Prática 1:\n",
        "Escreva um programa em Python que solicite o nome de um vendedor, seu salário fixo e\n",
        "o total de vendas efetuadas por ele no mês (em dinheiro). Considerando que este\n",
        "vendedor recebe uma comissão de 15% sobre suas vendas, o programa deve calcular e\n",
        "informar o total a receber no final do mês, com duas casas decimais.\n",
        "\n",
        "Prática 2:\n",
        "Escreva um programa em Python para calcular o comprimento de uma string.\n",
        "\n",
        "Prática 3:\n",
        "Dada a string \"Bom dia, Pythonista!\", escreva um código para imprimir a string em\n",
        "letras minúsculas.\n",
        "\n",
        "Prática 4:\n",
        "Dada a string `\" Python é uma linguagem de programação poderosa. \"`, escreva um\n",
        "código para realizar o seguinte tratamento de texto:\n",
        "1. Remova os espaços em branco no início e no final da string.\n",
        "2. Converta toda a string para minúsculas.\n",
        "3. Substitua a palavra \"poderosa\" por \"versátil\".\n",
        "Imprima o resultado final após o tratamento.\n"
      ],
      "metadata": {
        "id": "qBL6TEcm7WQL"
      }
    },
    {
      "cell_type": "code",
      "source": [
        "#Prática 1:\n",
        "nome = input('Digite o nome do vendedor: ')\n",
        "salario = float (input('Digite o salário fixo: '))\n",
        "vendas = float (input('Digite o total de vendas no mês (R$): '))\n",
        "total = print('O total a receber do funcionário '+nome+' é de R$ '+str(round(salario+(vendas*1.15),2))+'.')"
      ],
      "metadata": {
        "colab": {
          "base_uri": "https://localhost:8080/"
        },
        "id": "HkqM68_i7ZJK",
        "outputId": "bef5090e-55be-4ad6-c990-671841e13200"
      },
      "execution_count": null,
      "outputs": [
        {
          "output_type": "stream",
          "name": "stdout",
          "text": [
            "Digite o nome do vendedor: sdsa\n",
            "Digite o salário fixo: 10.365\n",
            "Digite o total de vendas no mês (R$): 125\n",
            "O total a receber do funcionário sdsa é de R$ 154.12.\n"
          ]
        }
      ]
    },
    {
      "cell_type": "code",
      "source": [
        "#Prática 2:\n",
        "string=input('Digite uma STR: ')\n",
        "print(len(string))"
      ],
      "metadata": {
        "colab": {
          "base_uri": "https://localhost:8080/"
        },
        "id": "kBy0fFbv-UO7",
        "outputId": "15405bfc-776d-489b-a218-df27dbb56ad3"
      },
      "execution_count": null,
      "outputs": [
        {
          "output_type": "stream",
          "name": "stdout",
          "text": [
            "Digite uma STR: dsadsa\n",
            "6\n"
          ]
        }
      ]
    },
    {
      "cell_type": "code",
      "source": [
        "#Prática 3:\n",
        "string = 'Bom dia, Pythonista!'\n",
        "print (string.lower())"
      ],
      "metadata": {
        "colab": {
          "base_uri": "https://localhost:8080/"
        },
        "id": "-gtg6B5S_c7z",
        "outputId": "0f19308a-c62d-4757-fcdd-08df0cdc523f"
      },
      "execution_count": null,
      "outputs": [
        {
          "output_type": "stream",
          "name": "stdout",
          "text": [
            "bom dia, pythonista!\n"
          ]
        }
      ]
    },
    {
      "cell_type": "code",
      "source": [
        "#Prática 4:\n",
        "texto = ' Python é uma linguagem de programação poderosa. '\n",
        "print(texto.strip()) #1\n",
        "print(texto.strip().lower()) #2\n",
        "print(texto.strip().replace('poderosa','versátil')) #3"
      ],
      "metadata": {
        "colab": {
          "base_uri": "https://localhost:8080/"
        },
        "id": "OLYOQBA3_yoz",
        "outputId": "02b75729-5dec-477a-d791-057c1c0fc6a5"
      },
      "execution_count": null,
      "outputs": [
        {
          "output_type": "stream",
          "name": "stdout",
          "text": [
            "Python é uma linguagem de programação poderosa.\n",
            "python é uma linguagem de programação poderosa.\n",
            "Python é uma linguagem de programação versátil.\n"
          ]
        }
      ]
    },
    {
      "cell_type": "markdown",
      "source": [
        "DESAFIO: Escreva um programa que leia três valores em ponto flutuante de dupla precisão:\n",
        "A, B e C. Em seguida, calcule e mostre:\n",
        "\n",
        "a) a área do triângulo retângulo que tem A por base e C por altura.\n",
        "\n",
        "b) a área do círculo de raio C. (pi = 3.14159)\n",
        "\n",
        "c) a área do trapézio que tem A e B por bases e C por altura.\n",
        "\n",
        "d) a área do quadrado que tem lado B.\n",
        "\n",
        "e) a área do retângulo que tem lados A e B."
      ],
      "metadata": {
        "id": "djZoq_SdBtqb"
      }
    },
    {
      "cell_type": "code",
      "source": [
        "#a\n",
        "a=float(input('Digite o valor da base do triângulo retangulo: '))\n",
        "c=float(input('Digite o valor da altura do triângulo retangulo: '))\n",
        "print('A área deste triângulo é '+str((a*c)/2)+'mm².')"
      ],
      "metadata": {
        "colab": {
          "base_uri": "https://localhost:8080/"
        },
        "id": "mxZ1ME5WB62C",
        "outputId": "5ce13b41-fb49-4edf-a899-50579378af27"
      },
      "execution_count": null,
      "outputs": [
        {
          "output_type": "stream",
          "name": "stdout",
          "text": [
            "Digite o valor da base do triângulo retangulo: 3\n",
            "Digite o valor da altura do triângulo retangulo: 6\n",
            "A área deste triângulo é 9.0mm².\n"
          ]
        }
      ]
    },
    {
      "cell_type": "code",
      "source": [
        "#b\n",
        "pi=3.14159\n",
        "c=float(input('Digite o raio do circulo: '))\n",
        "print('A área do circulo é de '+str(round((pi*(c**2)),4))+'mm²3.')"
      ],
      "metadata": {
        "colab": {
          "base_uri": "https://localhost:8080/"
        },
        "id": "I2SksgYNC0UL",
        "outputId": "2234f91f-20d7-4143-92c2-6776a6b4e668"
      },
      "execution_count": null,
      "outputs": [
        {
          "output_type": "stream",
          "name": "stdout",
          "text": [
            "Digite o raio do circulo: 3\n",
            "A área do circulo é de 28.2743mm²3.\n"
          ]
        }
      ]
    },
    {
      "cell_type": "code",
      "source": [
        "#c\n",
        "a=float(input('Digite o tamanho da base inferior do trapézio: '))\n",
        "b=float(input('Digite o tamanho da base superior do trapézio: '))\n",
        "c=float(input('Digite a altura do trapézio: '))\n",
        "print('A área do trapézio é '+str(((a+b)*c)/2)+'mm².')"
      ],
      "metadata": {
        "colab": {
          "base_uri": "https://localhost:8080/"
        },
        "id": "HXInfwgFDmkK",
        "outputId": "eae4318b-b843-4769-9a46-5ddee2d4b018"
      },
      "execution_count": null,
      "outputs": [
        {
          "output_type": "stream",
          "name": "stdout",
          "text": [
            "Digite o tamanho da base inferior do trapézio: 3\n",
            "Digite o tamanho da base superior do trapézio: 3\n",
            "Digite a altura do trapézio: 2\n",
            "A área do trapézio é 6.0mm².\n"
          ]
        }
      ]
    },
    {
      "cell_type": "code",
      "source": [
        "#d\n",
        "b=float(input(\"digite o lado do quadrado: \"))\n",
        "print('A área do quadrado é ',(b*b),'mm².')\n"
      ],
      "metadata": {
        "colab": {
          "base_uri": "https://localhost:8080/"
        },
        "id": "rbl2qRxVTaX5",
        "outputId": "1bd9ae51-775f-49fb-9d12-03cef6a2d3af"
      },
      "execution_count": null,
      "outputs": [
        {
          "output_type": "stream",
          "name": "stdout",
          "text": [
            "digite o lado do quadrado: 3\n",
            "A área do quadrado é  9.0 mm².\n"
          ]
        }
      ]
    },
    {
      "cell_type": "code",
      "source": [
        "#e\n",
        "a=float(input('Digite o valor da base do retângulo: '))\n",
        "b=float(input('Digite o valor da altura do retângulo: '))\n",
        "print('A área do retêngulo é '+str(a*b)+'mm².')"
      ],
      "metadata": {
        "colab": {
          "base_uri": "https://localhost:8080/"
        },
        "id": "RL3eTVe4FAuj",
        "outputId": "4404532f-90a6-43db-f9c2-eb82aeebef36"
      },
      "execution_count": null,
      "outputs": [
        {
          "output_type": "stream",
          "name": "stdout",
          "text": [
            "Digite o valor da base do retângulo: 3\n",
            "Digite o valor da altura do retângulo: 6\n",
            "A área do retêngulo é 18.0mm².\n"
          ]
        }
      ]
    },
    {
      "cell_type": "code",
      "source": [
        "#Trabalhando com listas\n",
        "\n",
        "frutas = ['banana','maça','manga']\n",
        "print(frutas)\n",
        "print(type(frutas))\n",
        "\n",
        "print(frutas[2])"
      ],
      "metadata": {
        "colab": {
          "base_uri": "https://localhost:8080/"
        },
        "id": "TBGUIGsHYIW6",
        "outputId": "22385ba2-4987-49ee-b92d-96352f11cc56"
      },
      "execution_count": null,
      "outputs": [
        {
          "output_type": "stream",
          "name": "stdout",
          "text": [
            "['banana', 'maça', 'manga']\n",
            "<class 'list'>\n",
            "manga\n"
          ]
        }
      ]
    },
    {
      "cell_type": "code",
      "source": [
        "#listas aceitam multiplos tipos de variáveis\n",
        "a_lista = ['banana', None, 'uva', 10, 3.1415, 4==4]\n",
        "print(a_lista)\n",
        "\n",
        "#listas permitem guardar outras listas dentro\n",
        "a_list=[23, None, 3.1415, frutas, 3<=5]\n",
        "print(a_list)\n",
        "print(a_list[3][0])"
      ],
      "metadata": {
        "colab": {
          "base_uri": "https://localhost:8080/"
        },
        "id": "Z70wWkAqaDl5",
        "outputId": "1ba81275-e11e-4927-8604-b2d4a2ee9a30"
      },
      "execution_count": null,
      "outputs": [
        {
          "output_type": "stream",
          "name": "stdout",
          "text": [
            "['banana', None, 'uva', 10, 3.1415, True]\n",
            "[23, None, 3.1415, ['banana', 'maça', 'melão', 'jaca', 'kiwi', 'caju', 'morango', 'abacaxi'], True]\n",
            "banana\n"
          ]
        }
      ]
    },
    {
      "cell_type": "code",
      "source": [
        "#criando matriz 3x3\n",
        "matriz = [\n",
        "    [1,2,3],\n",
        "    [4,5,6],\n",
        "    [7,8,9]\n",
        "    ]\n",
        "\n",
        "print(matriz)\n",
        "\n",
        "#acessando elementos da matriz\n",
        "print(matriz[0][0])\n",
        "print(matriz[1][2])\n",
        "\n",
        "#modificando elementos na matriz\n",
        "matriz[0][0] = 10\n",
        "matriz[1][2] = 'a'\n",
        "\n",
        "print(matriz)"
      ],
      "metadata": {
        "colab": {
          "base_uri": "https://localhost:8080/"
        },
        "id": "CU9-m-n0dSk4",
        "outputId": "a218ab82-9d66-45aa-fc70-660462b1a3ef"
      },
      "execution_count": null,
      "outputs": [
        {
          "output_type": "stream",
          "name": "stdout",
          "text": [
            "[[1, 2, 3], [4, 5, 6], [7, 8, 9]]\n",
            "1\n",
            "6\n",
            "[[10, 2, 3], [4, 5, 'a'], [7, 8, 9]]\n"
          ]
        }
      ]
    },
    {
      "cell_type": "code",
      "source": [
        "#Declarar lista vazia\n",
        "lista_vazia = []\n",
        "\n",
        "print(lista_vazia)\n",
        "print(len(lista_vazia))\n",
        "print(len(frutas))"
      ],
      "metadata": {
        "colab": {
          "base_uri": "https://localhost:8080/"
        },
        "id": "Eh5gjgZMHz4J",
        "outputId": "a07f5adf-56ae-48bc-da83-9dfc4a46d4f7"
      },
      "execution_count": null,
      "outputs": [
        {
          "output_type": "stream",
          "name": "stdout",
          "text": [
            "[]\n",
            "0\n",
            "3\n"
          ]
        }
      ]
    },
    {
      "cell_type": "code",
      "source": [
        "#Vizualizando parcialmente uma lista\n",
        "print(a_lista)\n",
        "print('\\n')\n",
        "print(a_lista[:2])\n",
        "print('\\n')\n",
        "print(a_lista[2:4])"
      ],
      "metadata": {
        "colab": {
          "base_uri": "https://localhost:8080/"
        },
        "id": "-kmABnFUK5W3",
        "outputId": "aed9fc6a-2729-4cfc-d355-2b5dd025800e"
      },
      "execution_count": null,
      "outputs": [
        {
          "output_type": "stream",
          "name": "stdout",
          "text": [
            "['banana', None, 'uva', 10, 3.1415, True]\n",
            "\n",
            "\n",
            "['banana', None]\n",
            "\n",
            "\n",
            "['uva', 10]\n"
          ]
        }
      ]
    },
    {
      "cell_type": "code",
      "source": [
        "#inserindo itens na lista com posição pré-definida\n",
        "print(len(frutas))\n",
        "\n",
        "frutas.insert(7,'jaca')\n",
        "print(frutas)"
      ],
      "metadata": {
        "colab": {
          "base_uri": "https://localhost:8080/"
        },
        "id": "0sbptBr0Nhq_",
        "outputId": "2d52cdb8-7390-4edb-8538-55a8766d8a6f"
      },
      "execution_count": null,
      "outputs": [
        {
          "output_type": "stream",
          "name": "stdout",
          "text": [
            "6\n",
            "['melão', 'banana', 'melão', 'maça', 'melão', 'manga', 'jaca']\n"
          ]
        }
      ]
    },
    {
      "cell_type": "code",
      "source": [
        "#Inserindo itens no final da lista\n",
        "frutas.append('kiwi')\n",
        "print(frutas)"
      ],
      "metadata": {
        "colab": {
          "base_uri": "https://localhost:8080/"
        },
        "id": "-TpNHZrLOmqN",
        "outputId": "40dc3aac-3ad7-4ae5-b771-6e157da3f099"
      },
      "execution_count": null,
      "outputs": [
        {
          "output_type": "stream",
          "name": "stdout",
          "text": [
            "['melão', 'banana', 'melão', 'maça', 'melão', 'manga', 'jaca', 'kiwi']\n"
          ]
        }
      ]
    },
    {
      "cell_type": "code",
      "source": [
        "#Lista adicional\n",
        "frutas_adicionais = ['caju', 'morango', 'abacaxi']\n",
        "\n",
        "#estendendo a lista com uma lista adicional\n",
        "frutas.extend(frutas_adicionais)\n",
        "\n",
        "print(frutas)\n"
      ],
      "metadata": {
        "colab": {
          "base_uri": "https://localhost:8080/"
        },
        "id": "CdYav33FRJzF",
        "outputId": "d48c0e0c-fe4f-4468-efff-f083cb74ffd7"
      },
      "execution_count": null,
      "outputs": [
        {
          "output_type": "stream",
          "name": "stdout",
          "text": [
            "['melão', 'banana', 'melão', 'maça', 'melão', 'manga', 'jaca', 'kiwi', 'caju', 'morango', 'abacaxi']\n"
          ]
        }
      ]
    },
    {
      "cell_type": "code",
      "source": [
        "#removendo itens da lista um a um\n",
        "frutas.remove('melão')\n",
        "print(frutas)"
      ],
      "metadata": {
        "colab": {
          "base_uri": "https://localhost:8080/"
        },
        "id": "ghDuvCGwSkP0",
        "outputId": "2b5282e6-5cb6-4f77-f364-635b28703b32"
      },
      "execution_count": null,
      "outputs": [
        {
          "output_type": "stream",
          "name": "stdout",
          "text": [
            "['banana', 'maça', 'melão', 'manga', 'jaca', 'kiwi', 'caju', 'morango', 'abacaxi']\n"
          ]
        }
      ]
    },
    {
      "cell_type": "code",
      "source": [
        "#remover com indicie e armazenar numa variável\n",
        "print(frutas)\n",
        "fruta_removida = frutas.pop(3) #Se deixar 'zero' ele sempre retirará o último.\n",
        "print(frutas)\n",
        "print(fruta_removida)"
      ],
      "metadata": {
        "colab": {
          "base_uri": "https://localhost:8080/"
        },
        "id": "HqqGIMAMUbq8",
        "outputId": "6d512db1-049c-4dc4-f1f6-1ecf8cda5502"
      },
      "execution_count": null,
      "outputs": [
        {
          "output_type": "stream",
          "name": "stdout",
          "text": [
            "['banana', 'maça', 'melão', 'manga', 'jaca', 'kiwi', 'caju', 'morango', 'abacaxi']\n",
            "['banana', 'maça', 'melão', 'jaca', 'kiwi', 'caju', 'morango', 'abacaxi']\n",
            "manga\n"
          ]
        }
      ]
    },
    {
      "cell_type": "code",
      "source": [
        "#Concatenando listas\n",
        "mais_frutas = frutas + ['morango'] + ['goiaba', 'tangerina']\n",
        "print(mais_frutas)"
      ],
      "metadata": {
        "colab": {
          "base_uri": "https://localhost:8080/"
        },
        "id": "HhZXzvHxWg3r",
        "outputId": "8c9bb9ab-5cdc-4fb1-c913-0b1ddb9c22c4"
      },
      "execution_count": null,
      "outputs": [
        {
          "output_type": "stream",
          "name": "stdout",
          "text": [
            "['banana', 'maça', 'melão', 'jaca', 'kiwi', 'caju', 'morango', 'abacaxi', 'morango', 'goiaba', 'tangerina']\n"
          ]
        }
      ]
    },
    {
      "cell_type": "code",
      "source": [
        "#criar uma cópia de lista para testes\n",
        "mais_frutas_copia = mais_frutas.copy()\n",
        "print(mais_frutas_copia)\n",
        "\n",
        "#trabalhando na cópia e comparando com a original\n",
        "mais_frutas_copia.remove('goiaba')\n",
        "mais_frutas_copia.pop()\n",
        "\n",
        "print(mais_frutas_copia)\n",
        "print(mais_frutas)"
      ],
      "metadata": {
        "colab": {
          "base_uri": "https://localhost:8080/"
        },
        "id": "OaMQgCQKX0Bj",
        "outputId": "95b05d6f-c9f9-4d32-9802-5f9d00bce2bd"
      },
      "execution_count": null,
      "outputs": [
        {
          "output_type": "stream",
          "name": "stdout",
          "text": [
            "['banana', 'maça', 'melão', 'jaca', 'kiwi', 'caju', 'morango', 'abacaxi', 'morango', 'goiaba', 'tangerina']\n",
            "['banana', 'maça', 'melão', 'jaca', 'kiwi', 'caju', 'morango', 'abacaxi', 'morango']\n",
            "['banana', 'maça', 'melão', 'jaca', 'kiwi', 'caju', 'morango', 'abacaxi', 'morango', 'goiaba', 'tangerina']\n"
          ]
        }
      ]
    },
    {
      "cell_type": "code",
      "source": [
        "#testando: Crie 2 listas com pelo menos 3 cidades brasileiras cada uma localizadas na região norte e sul, respectivamente\n",
        "cidades_norte = ['Rio Branco', 'Xapuri', 'Manaus', 'Parintins', 'Boa Vista', 'Uiramutã', 'Macapá']\n",
        "cidades_sul = ['Curitiba', 'Florianópolis', 'Porto Alegre', 'Joinville', 'Londrina', 'Caxias do Sul', 'Maringá', 'Blumenau']\n",
        "cidades_norte_sul = cidades_norte + cidades_sul\n",
        "\n",
        "print(cidades_norte)\n",
        "print(cidades_sul)\n",
        "print(cidades_norte_sul)"
      ],
      "metadata": {
        "colab": {
          "base_uri": "https://localhost:8080/"
        },
        "id": "XjBZL9lCZfkK",
        "outputId": "5a3fdc27-7489-49e0-b3cd-3896a35b66fa"
      },
      "execution_count": null,
      "outputs": [
        {
          "output_type": "stream",
          "name": "stdout",
          "text": [
            "['Rio Branco', 'Xapuri', 'Manaus', 'Parintins', 'Boa Vista', 'Uiramutã', 'Macapá']\n",
            "['Curitiba', 'Florianópolis', 'Porto Alegre', 'Joinville', 'Londrina', 'Caxias do Sul', 'Maringá', 'Blumenau']\n",
            "['Rio Branco', 'Xapuri', 'Manaus', 'Parintins', 'Boa Vista', 'Uiramutã', 'Macapá', 'Curitiba', 'Florianópolis', 'Porto Alegre', 'Joinville', 'Londrina', 'Caxias do Sul', 'Maringá', 'Blumenau']\n"
          ]
        }
      ]
    },
    {
      "cell_type": "code",
      "source": [
        "#Transformando uma lista redundante em lista de objetos exclusivos\n",
        "numeros = ['10','20','30','40','20','50','60','40']\n",
        "numeros_exclusivos = set(numeros)\n",
        "print(numeros)\n",
        "print(numeros_exclusivos)"
      ],
      "metadata": {
        "colab": {
          "base_uri": "https://localhost:8080/"
        },
        "id": "Bt0jr0ctiyeW",
        "outputId": "0158c443-3805-4454-fb54-189dc1b716d1"
      },
      "execution_count": null,
      "outputs": [
        {
          "output_type": "stream",
          "name": "stdout",
          "text": [
            "['10', '20', '30', '40', '20', '50', '60', '40']\n",
            "{'20', '50', '10', '40', '30', '60'}\n"
          ]
        }
      ]
    },
    {
      "cell_type": "code",
      "source": [
        "#convertendo uma lista em string\n",
        "lista = ['p','y','t','h','o','n']\n",
        "string = ''.join(lista)\n",
        "print(string)"
      ],
      "metadata": {
        "colab": {
          "base_uri": "https://localhost:8080/"
        },
        "id": "oICCA6qlmHoU",
        "outputId": "4b77fbb6-6f60-42a1-ec0f-f29528b7642c"
      },
      "execution_count": null,
      "outputs": [
        {
          "output_type": "stream",
          "name": "stdout",
          "text": [
            "python\n"
          ]
        }
      ]
    },
    {
      "cell_type": "code",
      "source": [
        "#Exercicios Aula 4\n",
        "print('1:')\n",
        "numeros = [1, 3, 5, 7, 9]\n",
        "a = numeros[0]\n",
        "b = numeros[1]\n",
        "c = numeros[2]\n",
        "d = numeros[3]\n",
        "e = numeros[4]\n",
        "produto=a*b*c*d*e\n",
        "print(produto)\n",
        "\n",
        "\n",
        "print('2:')\n",
        "cores = [\"vermelho\", \"azul\", \"verde\", \"amarelo\", \"roxo\"]\n",
        "cores.remove('azul')\n",
        "print(cores)\n",
        "cores1 = [\"vermelho\", \"azul\", \"verde\", \"amarelo\", \"roxo\"]\n",
        "cor_removida = cores1.pop(1)\n",
        "print(cores)\n",
        "\n",
        "print('3:')\n",
        "frutas = [\"maçã\", \"banana\", \"laranja\", \"morango\"]\n",
        "frutas.append('uva')\n",
        "print(frutas)\n",
        "\n",
        "print('4:')\n",
        "nomes = [\"Alice\", \"Bob\", \"Charlie\", \"David\"]\n",
        "'Alice' in nomes"
      ],
      "metadata": {
        "colab": {
          "base_uri": "https://localhost:8080/"
        },
        "id": "X0FJdRlYo_Jj",
        "outputId": "e88bf2a7-d09e-4b83-c976-98bd0fb0ab1f"
      },
      "execution_count": null,
      "outputs": [
        {
          "output_type": "stream",
          "name": "stdout",
          "text": [
            "1:\n",
            "945\n",
            "2:\n",
            "['vermelho', 'verde', 'amarelo', 'roxo']\n",
            "['vermelho', 'verde', 'amarelo', 'roxo']\n",
            "3:\n",
            "['maçã', 'banana', 'laranja', 'morango', 'uva']\n",
            "4:\n"
          ]
        },
        {
          "output_type": "execute_result",
          "data": {
            "text/plain": [
              "True"
            ]
          },
          "metadata": {},
          "execution_count": 53
        }
      ]
    },
    {
      "cell_type": "code",
      "source": [
        "#Declarando dicionário\n",
        "person1 = {\n",
        "    'nome' : 'Douglas',\n",
        "    'sexo' : 'Masculino',\n",
        "    'idade' : 30,\n",
        "    'casado' : True\n",
        "}\n",
        "print(person1)\n",
        "print(type(person1))\n",
        "print(' ')\n",
        "#declarando dicionário de outra forma\n",
        "person2 = dict(nome='Maria', sexo='Feminino', idade=28, casado=True)\n",
        "print(person2)\n",
        "print(type(person2))\n",
        "\n",
        "#buscando conteudo por chave\n",
        "print(person2['nome'])\n",
        "\n",
        "#Dicionário vazio, depois colocando conteudo\n",
        "dict1 = {}\n",
        "print(dict1)\n",
        "dict1['chave1']=\"não está mais vazio!\"\n",
        "print(dict1)\n",
        "\n",
        "#Dicionário com lista\n",
        "dict2 = {'Pessoa1':['Willian',30,'Professor'],'Pessoa2':['Julia',50,'Medica']}\n",
        "print(dict2)\n",
        "print(dict2['Pessoa2'][1])"
      ],
      "metadata": {
        "colab": {
          "base_uri": "https://localhost:8080/"
        },
        "id": "joMqKyya37fo",
        "outputId": "cb2184dc-d36b-4231-fc86-311021ad8406"
      },
      "execution_count": null,
      "outputs": [
        {
          "output_type": "stream",
          "name": "stdout",
          "text": [
            "{'nome': 'Douglas', 'sexo': 'Masculino', 'idade': 30, 'casado': True}\n",
            "<class 'dict'>\n",
            " \n",
            "{'nome': 'Maria', 'sexo': 'Feminino', 'idade': 28, 'casado': True}\n",
            "<class 'dict'>\n",
            "Maria\n",
            "{}\n",
            "{'chave1': 'não está mais vazio!'}\n",
            "{'Pessoa1': ['Willian', 30, 'Professor'], 'Pessoa2': ['Julia', 50, 'Medica']}\n",
            "50\n"
          ]
        }
      ]
    },
    {
      "cell_type": "code",
      "source": [
        "#Dicionário aninhado\n",
        "pessoa = {\n",
        "    'nome':'João',\n",
        "    'idade': 30,\n",
        "    'endereço':{\n",
        "        'rua':'Rua assdadsa',\n",
        "        'cidade': 'Cidade a',\n",
        "        'estado': 'SP'}\n",
        "    }\n",
        "\n",
        "#Acessando valores no dicionário aninhado\n",
        "print('Nome: ', pessoa['nome'])\n",
        "print('Idade: ', pessoa['idade'])\n",
        "print('Endereço: ', pessoa['endereço']['rua'], pessoa['endereço']['cidade'], pessoa['endereço']['estado'])\n",
        "\n",
        "#acessando por função GET\n",
        "print(pessoa.get('nome'))"
      ],
      "metadata": {
        "colab": {
          "base_uri": "https://localhost:8080/"
        },
        "id": "NcnWAwnM8Bix",
        "outputId": "0e184226-8f28-4ed0-80e5-f29e4d8cd372"
      },
      "execution_count": null,
      "outputs": [
        {
          "output_type": "stream",
          "name": "stdout",
          "text": [
            "Nome:  João\n",
            "Idade:  30\n",
            "Endereço:  Rua assdadsa Cidade a SP\n",
            "João\n"
          ]
        }
      ]
    },
    {
      "cell_type": "code",
      "source": [
        "#Atualização dinâmica - alterando informações\n",
        "person1['casado'] = False\n",
        "\n",
        "#Atualização dinâmica - adicionando novo campo e chave\n",
        "person1['nacionalidade'] = 'Brasileiro'\n",
        "\n",
        "print(person1)\n",
        "\n",
        "#removendo chaves especificas do meu dicionário\n",
        "person1.pop('nacionalidade')\n",
        "print(person1)\n",
        "\n",
        "#visualizando todas as chaves de um dicionário\n",
        "print(person1.keys())\n",
        "\n",
        "#visualizando os valores das chaves\n",
        "print(person1.values())\n",
        "\n",
        "#visualizando tudo\n",
        "print(person1.items())"
      ],
      "metadata": {
        "colab": {
          "base_uri": "https://localhost:8080/"
        },
        "id": "WfFIDLnTD4Bc",
        "outputId": "41aa97e8-6072-4ab9-feca-510572d5ab87"
      },
      "execution_count": null,
      "outputs": [
        {
          "output_type": "stream",
          "name": "stdout",
          "text": [
            "{'nome': 'Douglas', 'sexo': 'Masculino', 'idade': 30, 'casado': False, 'nacionalidade': 'Brasileiro'}\n",
            "{'nome': 'Douglas', 'sexo': 'Masculino', 'idade': 30, 'casado': False}\n",
            "dict_keys(['nome', 'sexo', 'idade', 'casado'])\n",
            "dict_values(['Douglas', 'Masculino', 30, False])\n",
            "dict_items([('nome', 'Douglas'), ('sexo', 'Masculino'), ('idade', 30), ('casado', False)])\n"
          ]
        }
      ]
    },
    {
      "cell_type": "code",
      "source": [
        "#limpando valores do dicionário (clea)\n",
        "pessoaex = {\n",
        "    'nome':'João',\n",
        "    'idade': 30,\n",
        "    'endereço':{\n",
        "        'rua':'Rua assdadsa',\n",
        "        'cidade': 'Cidade a',\n",
        "        'estado': 'SP'}\n",
        "    }\n",
        "\n",
        "#print(pessoaex.clear())\n",
        "\n",
        "#alternativa para pop - apagando chave específica\n",
        "del pessoaex['endereço']\n",
        "print(pessoaex)\n",
        "\n",
        "\n",
        "#Atualizando um dicionário com base em outro\n",
        "dicionario1 = {'a':1,'b':2}\n",
        "\n",
        "#adicionando\n",
        "dicionario2 = {'b':3,'c':4}\n",
        "dicionario1.update(dicionario2)\n",
        "\n",
        "print('Dicionário após update:',dicionario1)\n"
      ],
      "metadata": {
        "colab": {
          "base_uri": "https://localhost:8080/"
        },
        "id": "Y42MykiuJb_W",
        "outputId": "b71deb66-395c-491f-c103-ce045c80cbd6"
      },
      "execution_count": null,
      "outputs": [
        {
          "output_type": "stream",
          "name": "stdout",
          "text": [
            "{'nome': 'João', 'idade': 30}\n",
            "Dicionário após update: {'a': 1, 'b': 3, 'c': 4}\n"
          ]
        }
      ]
    },
    {
      "cell_type": "code",
      "source": [
        "#praticando\n",
        "#acessar o dicionário abaixo e mostrar todos os itens:\n",
        "informacoes_pessoa = {'nome':'Maria','idade':28,'cidade':'São paulo'}\n",
        "print(informacoes_pessoa.items())\n",
        "\n",
        "#Crie um dicionário de estoque e atualize as quantidades de alguns itens\n",
        "estoque = {'maças':10,'bananas':15,'laranjas':8}\n",
        "print('O estoque original é: ',estoque)\n",
        "\n",
        "math = input('Qual operação deseja fazer?')\n",
        "macas = input('Digite a quantidade atualizada de maças: ')\n",
        "bananas = input('Digite a quantidade atualizada de bananas: ')\n",
        "laranjas = input('Digite a quantidade atualizada de laranjas: ')\n",
        "\n",
        "if math==\"soma\":\n",
        "    estoque['maças']+=float(macas)\n",
        "    estoque['bananas']+=float(bananas)\n",
        "    estoque['laranjas']+=float(laranjas)\n",
        "    print('A quantidade atualizada do estoque é: ',estoque)\n",
        "\n",
        "if math==\"subtração\":\n",
        "    estoque['maças']-=float(macas)\n",
        "    estoque['bananas']-=float(bananas)\n",
        "    estoque['laranjas']-=float(laranjas)\n",
        "    print('A quantidade atualizada do estoque é: ',estoque)\n",
        "\n",
        "if math==\"multiplicação\":\n",
        "    estoque['maças']*=float(macas)\n",
        "    estoque['bananas']*=float(bananas)\n",
        "    estoque['laranjas']*=float(laranjas)\n",
        "    print('A quantidade atualizada do estoque é: ',estoque)\n",
        "\n",
        "if math==\"divisão\":\n",
        "    estoque['maças']/=float(macas)\n",
        "    estoque['bananas']/=float(bananas)\n",
        "    estoque['laranjas']/=float(laranjas)\n",
        "    print('A quantidade atualizada do estoque é: ',estoque)\n",
        "\n",
        "if math==\"substituição\":\n",
        "    atualizacao = {'maças':macas,'bananas':bananas,'laranjas':laranjas}\n",
        "    estoque.update(atualizacao)\n",
        "    print('A quantidade atualizada do estoque é: ',estoque)\n"
      ],
      "metadata": {
        "colab": {
          "base_uri": "https://localhost:8080/"
        },
        "id": "y0vO2EMSTiyp",
        "outputId": "5c9c7dfd-e45a-4e4a-b943-f4c611621568"
      },
      "execution_count": null,
      "outputs": [
        {
          "output_type": "stream",
          "name": "stdout",
          "text": [
            "dict_items([('nome', 'Maria'), ('idade', 28), ('cidade', 'São paulo')])\n",
            "O estoque original é:  {'maças': 10, 'bananas': 15, 'laranjas': 8}\n",
            "Qual operação deseja fazer?divisão\n",
            "Digite a quantidade atualizada de maças: 2\n",
            "Digite a quantidade atualizada de bananas: 2\n",
            "Digite a quantidade atualizada de laranjas: 2\n",
            "A quantidade atualizada do estoque é:  {'maças': 5.0, 'bananas': 7.5, 'laranjas': 4.0}\n"
          ]
        }
      ]
    },
    {
      "cell_type": "code",
      "source": [
        "#Atividade_Aula_5:\n",
        "#1 - Considere o seguinte dicionário em Python:\n",
        "\n",
        "dicionario = {'idade': 25, 'nome': 'Ana'}\n",
        "\n",
        "#Crie um programa que realiza a seguinte operação:\n",
        "#Atualize o valor associado à chave 'idade' para 26.\n",
        "#Ao executar o programa, o dicionário modificado deve ser impresso na tela.\n",
        "\n",
        "dicionario['idade']=26\n",
        "print(\"Atividade 1: \",dicionario)\n",
        "\n",
        "print('----------------------------------------------------')\n",
        "\n",
        "\n",
        "#2 - Dado o seguinte dicionário em Python:\n",
        "dicionario2 = {'a': 1, 'b': 2, 'c': 3}\n",
        "\n",
        "#Desenvolva um programa que realize a seguinte operação:\n",
        "#Remova a chave 'b' do dicionário.\n",
        "dicionario2.pop('b')\n",
        "print(\"Atividade 2: \",dicionario2)\n",
        "\n",
        "\n"
      ],
      "metadata": {
        "colab": {
          "base_uri": "https://localhost:8080/"
        },
        "id": "WzHzxXWXddZy",
        "outputId": "71946c51-3beb-4331-9f49-ddab83645bd5"
      },
      "execution_count": null,
      "outputs": [
        {
          "output_type": "stream",
          "name": "stdout",
          "text": [
            "Atividade 1:  {'idade': 26, 'nome': 'Ana'}\n",
            "----------------------------------------------------\n",
            "Atividade 2:  {'a': 1, 'c': 3}\n"
          ]
        }
      ]
    },
    {
      "cell_type": "code",
      "source": [
        "#Tupla\n",
        "\n",
        "frutas = ('banana','uva','laranja')\n",
        "print(frutas)\n",
        "print(type(frutas))\n",
        "len(frutas)\n",
        "print(frutas[0])"
      ],
      "metadata": {
        "colab": {
          "base_uri": "https://localhost:8080/"
        },
        "id": "8B2Xv-9cL27b",
        "outputId": "daa8d40e-4413-4e95-cdaf-cede2ec4e18e"
      },
      "execution_count": null,
      "outputs": [
        {
          "output_type": "stream",
          "name": "stdout",
          "text": [
            "('banana', 'uva', 'laranja')\n",
            "<class 'tuple'>\n",
            "banana\n"
          ]
        }
      ]
    },
    {
      "cell_type": "code",
      "source": [
        "#convertendo Tupla para lista e vice versa\n",
        "\n",
        "minha_tupla = (1,2,3)\n",
        "lista_resultante = list(minha_tupla)\n",
        "print(lista_resultante)\n",
        "print(type(lista_resultante))"
      ],
      "metadata": {
        "colab": {
          "base_uri": "https://localhost:8080/"
        },
        "id": "HHVz8TknSLXd",
        "outputId": "09286904-5370-478c-f8ec-0d968815ae74"
      },
      "execution_count": null,
      "outputs": [
        {
          "output_type": "stream",
          "name": "stdout",
          "text": [
            "[1, 2, 3]\n",
            "<class 'list'>\n"
          ]
        }
      ]
    },
    {
      "cell_type": "code",
      "source": [
        "#Prática criar uma tupla \"coordenadas\" com latitude e longitude de um ponto especifico e exiba\n",
        "\n",
        "coordenadas = ('-22.9712', '-46.9964 22° 58 16 Sul')\n",
        "print(coordenadas)\n",
        "\n",
        "\n",
        "#tupla com diferentes tipos de dados\n",
        "\n",
        "tupla = (3.14,'asdasd',10, True)\n",
        "print(tupla)"
      ],
      "metadata": {
        "colab": {
          "base_uri": "https://localhost:8080/"
        },
        "id": "pKotDczDVSYF",
        "outputId": "0694efcd-9524-479c-bbe1-039736956e81"
      },
      "execution_count": null,
      "outputs": [
        {
          "output_type": "stream",
          "name": "stdout",
          "text": [
            "('-22.9712', '-46.9964 22° 58 16 Sul')\n",
            "(3.14, 'asdasd', 10, True)\n"
          ]
        }
      ]
    },
    {
      "cell_type": "code",
      "source": [
        "#crie uma tupla fruta e acrescente uma item, sem apaga-la\n",
        "\n",
        "fruta = ('maça','abacaxi','caju')\n",
        "fruta_convert = list(fruta)\n",
        "fruta_convert.append('tomate')\n",
        "fruta_retorno = tuple(fruta_convert)\n",
        "print(fruta_retorno)\n",
        "print(type(fruta_retorno))"
      ],
      "metadata": {
        "colab": {
          "base_uri": "https://localhost:8080/"
        },
        "id": "Zn0PW9BXa6gv",
        "outputId": "1874db59-c5bb-46a3-e42f-be15cd980922"
      },
      "execution_count": null,
      "outputs": [
        {
          "output_type": "stream",
          "name": "stdout",
          "text": [
            "('maça', 'abacaxi', 'caju', 'tomate')\n",
            "<class 'tuple'>\n"
          ]
        }
      ]
    },
    {
      "cell_type": "code",
      "source": [
        "#EXERCICIOS AULA_6\n",
        "\n",
        "#1)Implemente um código em Python que recebe as notas de um aluno em três disciplinas\n",
        "#e armazena essas notas em uma tupla. Em seguida, calcule e imprima a média das notas.\n",
        "\n",
        "print('Atividade 1:')\n",
        "\n",
        "aluno_1 = float(input(\"digite a nota do aluno 1: \"))\n",
        "aluno_2 = float(input(\"digite a nota do aluno 2: \"))\n",
        "aluno_3 = float(input(\"digite a nota do aluno 3: \"))\n",
        "\n",
        "notas = (aluno_1, aluno_2, aluno_3)\n",
        "\n",
        "media = sum(notas)/len(notas)\n",
        "\n",
        "print('A média da nota dos alunos é ',media)\n",
        "\n",
        "\n",
        "#2)Solicita ao usuário que insira o login e a senha,crie uma tupla (usuario(login,senha))\n",
        "#com login e senha e exibe as informações armazenadas. Na última linha tente alterar\n",
        "#usuario[1] = '123645', Qual é o resultado esperado e por que isso pode causar um\n",
        "#problema?\n",
        "\n",
        "print('Atividade 2:')\n",
        "\n",
        "login = input('digite o login: ')\n",
        "senha = input('digite a senha')\n",
        "usuario = (login, senha)\n",
        "print(usuario)\n",
        "\n",
        "#usuario[1] = \"12345\"\n",
        "\n",
        "#o resultado esperado é erro\n",
        "\n",
        "\n"
      ],
      "metadata": {
        "colab": {
          "base_uri": "https://localhost:8080/"
        },
        "id": "X7m-BMOllZBH",
        "outputId": "1ef6f9ec-ba8f-4516-92f6-66361dcee068"
      },
      "execution_count": null,
      "outputs": [
        {
          "output_type": "stream",
          "name": "stdout",
          "text": [
            "Atividade 1:\n",
            "digite a nota do aluno 1: 3\n",
            "digite a nota do aluno 2: 3\n",
            "digite a nota do aluno 3: 10\n",
            "A média da nota dos alunos é  5.333333333333333\n",
            "Atividade 2:\n"
          ]
        }
      ]
    },
    {
      "cell_type": "code",
      "source": [
        "#comparações\n",
        "\n",
        "# == comparação\n",
        "# != diferente\n",
        "\n",
        "# operadores lógicos\n",
        "# and\n",
        "# or"
      ],
      "metadata": {
        "id": "tqT3sYHN63FG"
      },
      "execution_count": null,
      "outputs": []
    },
    {
      "cell_type": "code",
      "source": [
        "#IF Else - comando condicional\n",
        "\n",
        "idade = input('Digite sua idade: ')\n",
        "\n",
        "if int(idade) >= 18:\n",
        "  print(\"Vc é maior!\")\n",
        "else:\n",
        "  print(\"Vc é menor!\")"
      ],
      "metadata": {
        "colab": {
          "base_uri": "https://localhost:8080/"
        },
        "id": "uERvldJSC14_",
        "outputId": "d8b6ee92-b048-43cb-a643-0505fd29ee60"
      },
      "execution_count": null,
      "outputs": [
        {
          "output_type": "stream",
          "name": "stdout",
          "text": [
            "Digite sua idade: 10\n",
            "Vc é menor!\n"
          ]
        }
      ]
    },
    {
      "cell_type": "code",
      "source": [
        "#Faça um código que colete duas variaveis A e B, caso A seja maior que B print \"A é maior que B\"\n",
        "\n",
        "A = input(\"Digite o valor de A: \")\n",
        "B = input(\"Digite o valor de B: \")\n",
        "\n",
        "if int(A) > int(B):\n",
        "  print(\"A é maior que B.\")\n",
        "elif int(A) == int(B):\n",
        "  print(\"A é igual a B.\")\n",
        "else:\n",
        "  print(\"B é maior que A.\")"
      ],
      "metadata": {
        "colab": {
          "base_uri": "https://localhost:8080/"
        },
        "id": "njIxylLGEZYY",
        "outputId": "e98f299e-7f8e-4f64-d7ea-6550d862bd1d"
      },
      "execution_count": null,
      "outputs": [
        {
          "output_type": "stream",
          "name": "stdout",
          "text": [
            "Digite o valor de A: 10\n",
            "Digite o valor de B: 10\n",
            "A é igual a B.\n"
          ]
        }
      ]
    },
    {
      "cell_type": "code",
      "source": [
        "#Faça um código que colete duas variaveis A e B, caso A seja maior que B print \"A é maior que B\", caso contrário \"B é maior que A\". Também verifique se A é duas vezes maior que B, se sim, print \"A é duas vezes maior que B\"\n",
        "\n",
        "A = float(input(\"Digite o valor de A: \"))\n",
        "B = float(input(\"Digite o valor de B: \"))\n",
        "\n",
        "if A >= 2*B:\n",
        "  print(\"A é duas vezes maior que B\")\n",
        "elif A > B:\n",
        "  print(\"A é maior que B.\")\n",
        "elif A == B:\n",
        "  print(\"A é igual a B.\")\n",
        "else:\n",
        "  print(\"B é maior que A.\")\n",
        "\n"
      ],
      "metadata": {
        "colab": {
          "base_uri": "https://localhost:8080/"
        },
        "id": "4-j9vrPxL2sh",
        "outputId": "eda40b28-c710-48a7-da52-8e00832920ba"
      },
      "execution_count": null,
      "outputs": [
        {
          "output_type": "stream",
          "name": "stdout",
          "text": [
            "Digite o valor de A: 20\n",
            "Digite o valor de B: 15\n",
            "A é maior que B.\n"
          ]
        }
      ]
    },
    {
      "cell_type": "code",
      "source": [
        "#Faça um codigo para verificar se o número é par ou impar?\n",
        "A = int(input(\"Digite um valor: \"))\n",
        "if A%2 == 0: #% - operador que verifica resto da divisão pelo númeor que segue o percent\n",
        "  print(\"Valor é par!\")\n",
        "\n",
        "else:\n",
        "  print(\"Valor é impar!\")"
      ],
      "metadata": {
        "colab": {
          "base_uri": "https://localhost:8080/"
        },
        "id": "-PFq_sDxYM1j",
        "outputId": "936eef51-f761-4f0e-9f6b-be40b6b4ce63"
      },
      "execution_count": null,
      "outputs": [
        {
          "output_type": "stream",
          "name": "stdout",
          "text": [
            "Digite um valor: 7\n",
            "Valor é impar!\n"
          ]
        }
      ]
    },
    {
      "cell_type": "code",
      "source": [
        "#faça um codigo que classifique em conceitos as notas dos alunos: A(nota>=9), B(7<=nota<9), C(5<=nota>7), D(nota<5)\n",
        "\n",
        "nota = float(input(\"Digite sua nota: \"))\n",
        "\n",
        "if nota >=9 and nota <=10:\n",
        "  print(\"Classificação A\")\n",
        "\n",
        "elif nota >= 7 and nota <9:\n",
        "  print('Classificação B')\n",
        "\n",
        "elif nota >= 5 and nota<7:\n",
        "  print('Classificação C')\n",
        "\n",
        "elif nota < 5 and nota >=0:\n",
        "  print('Classificação D')\n",
        "\n",
        "else:\n",
        "  print('Nota inválida, comece de novo.')"
      ],
      "metadata": {
        "colab": {
          "base_uri": "https://localhost:8080/"
        },
        "id": "9hT5tWMfbqj8",
        "outputId": "49478bac-63ad-4134-d4ed-c7db5d6e7bf2"
      },
      "execution_count": null,
      "outputs": [
        {
          "output_type": "stream",
          "name": "stdout",
          "text": [
            "Digite sua nota: -5\n",
            "Nota inválida, comece de novo.\n"
          ]
        }
      ]
    },
    {
      "cell_type": "code",
      "source": [
        "#Solicite um número ao usuário e imprima se é positivo, negativo ou zero\n",
        "\n",
        "a = float(input(\"Digite um número qualquer: \"))\n",
        "\n",
        "if a > 0:\n",
        "  print('Número positivo.')\n",
        "\n",
        "elif a == 0:\n",
        "  print(\"Número igual a zero.\")\n",
        "\n",
        "elif a < 0:\n",
        "  print(\"número negativo.\")"
      ],
      "metadata": {
        "colab": {
          "base_uri": "https://localhost:8080/"
        },
        "id": "JmiJcbUmk1bU",
        "outputId": "4463ac74-fdaf-4bfc-ee0c-c9bf5701f72f"
      },
      "execution_count": null,
      "outputs": [
        {
          "output_type": "stream",
          "name": "stdout",
          "text": [
            "Digite um número qualquer: 6\n",
            "Número positivo.\n"
          ]
        }
      ]
    },
    {
      "cell_type": "code",
      "source": [
        "#Praticando: solicite a idade do usuario para verificar a categoria da idade, considere: Criança/Adolescente (menor que 18), Adulto (maior ou igual a 18 e menor que 65), Idoso (igual ou mair que 65). imprima a categoria.\n",
        "\n",
        "idade = int(input('Insira uma idade para verificar a categoria pertencente: '))\n",
        "\n",
        "if idade < 18:\n",
        "  print('Criança/Adolescente')\n",
        "\n",
        "elif 18 <= idade <65:\n",
        "  print('Adulto')\n",
        "\n",
        "else:\n",
        "  print(\"idoso\")"
      ],
      "metadata": {
        "colab": {
          "base_uri": "https://localhost:8080/"
        },
        "id": "84VXVY_U-kAn",
        "outputId": "a833d4a8-34a0-4083-b22f-5eff2114a07f"
      },
      "execution_count": null,
      "outputs": [
        {
          "output_type": "stream",
          "name": "stdout",
          "text": [
            "Insira uma idade para verificar a categoria pertencente: 19\n",
            "Adulto\n"
          ]
        }
      ]
    },
    {
      "cell_type": "code",
      "source": [
        "#Calculando fatorial usando WHILE\n",
        "%%time\n",
        "n = int(input(\"Informe um número para calcular o fatorial: \"))\n",
        "resultado = 1\n",
        "i = 1\n",
        "\n",
        "while i<= n:\n",
        "  resultado = resultado*i\n",
        "  i=i+1\n",
        "\n",
        "print('O fatorial de',n, 'é:',resultado)"
      ],
      "metadata": {
        "colab": {
          "base_uri": "https://localhost:8080/"
        },
        "id": "Y_7bLhYlDhv3",
        "outputId": "913cad23-6795-4ba2-ec00-33b7f1a014e2"
      },
      "execution_count": null,
      "outputs": [
        {
          "output_type": "stream",
          "name": "stdout",
          "text": [
            "Informe um número para calcular o fatorial: 5\n",
            "O fatorial de 5 é: 120\n",
            "CPU times: user 30.4 ms, sys: 5.75 ms, total: 36.2 ms\n",
            "Wall time: 1.72 s\n"
          ]
        }
      ]
    },
    {
      "cell_type": "code",
      "source": [
        "#Loop while para imprimir de 1 a 5 em ordem crescente\n",
        "\n",
        "n = int(input('digite o numero inicial: '))\n",
        "c = 1\n",
        "\n",
        "while c<=5:\n",
        "  print(n + c)\n",
        "  c = c+1\n",
        "\n"
      ],
      "metadata": {
        "colab": {
          "base_uri": "https://localhost:8080/"
        },
        "id": "T9ZelMCJGeZQ",
        "outputId": "d6008bac-8517-460a-92d1-9c124eedf855"
      },
      "execution_count": null,
      "outputs": [
        {
          "output_type": "stream",
          "name": "stdout",
          "text": [
            "digite o numero inicial: 15\n",
            "16\n",
            "17\n",
            "18\n",
            "19\n",
            "20\n"
          ]
        }
      ]
    },
    {
      "cell_type": "code",
      "source": [
        "#Solicite um numero inteiro e print os impares de 1 até o número\n",
        "\n",
        "n = int(input('Digite o numero inteiro: '))\n",
        "soma_impares = 0\n",
        "c = 1\n",
        "\n",
        "while c <= n:\n",
        "  if c%2 != 0:\n",
        "    soma_impares += c\n",
        "  c += 1\n",
        "\n",
        "print('A soma dos número impares até',n,'é',soma_impares)"
      ],
      "metadata": {
        "colab": {
          "base_uri": "https://localhost:8080/"
        },
        "id": "I6vio8bzJ45v",
        "outputId": "61a2e32d-7aee-4b44-a7da-f94f826d00a6"
      },
      "execution_count": null,
      "outputs": [
        {
          "output_type": "stream",
          "name": "stdout",
          "text": [
            "digite o numero inteiro: 10\n",
            "A soma dos número impares até 10 é 25\n"
          ]
        }
      ]
    },
    {
      "cell_type": "code",
      "source": [
        "#solicite um numero e imprima a tabuada de 1 a 10\n",
        "\n",
        "n = int(input('Digite o numero inteiro: '))\n",
        "c = 1\n",
        "print('Tabuada de',n,'é:')\n",
        "while c<=10:\n",
        "  print(n,'x',c,'=',(n*c))\n",
        "  c  += 1"
      ],
      "metadata": {
        "colab": {
          "base_uri": "https://localhost:8080/"
        },
        "id": "f4gn0iJ3OkTA",
        "outputId": "543e4f29-5bb1-4adf-e26d-9008cd2b75bf"
      },
      "execution_count": null,
      "outputs": [
        {
          "output_type": "stream",
          "name": "stdout",
          "text": [
            "Digite o numero inteiro: 13\n",
            "Tabuada de 13 é:\n",
            "13 x 1 = 13\n",
            "13 x 2 = 26\n",
            "13 x 3 = 39\n",
            "13 x 4 = 52\n",
            "13 x 5 = 65\n",
            "13 x 6 = 78\n",
            "13 x 7 = 91\n",
            "13 x 8 = 104\n",
            "13 x 9 = 117\n",
            "13 x 10 = 130\n"
          ]
        }
      ]
    },
    {
      "cell_type": "code",
      "source": [
        "#Break\n",
        "%%time\n",
        "i = 1\n",
        "result = 1\n",
        "while i <=100:\n",
        "  result *= i\n",
        "  if i==42:\n",
        "    print('Você chegou no 42! Pare a execução.')\n",
        "    break\n",
        "  i+=1\n",
        "\n",
        "print('i:',i)\n",
        "print('Resultado:',result)"
      ],
      "metadata": {
        "colab": {
          "base_uri": "https://localhost:8080/"
        },
        "id": "nYgGE68wZdLH",
        "outputId": "64fba80b-db91-4434-a5e9-348fc3ab7051"
      },
      "execution_count": null,
      "outputs": [
        {
          "output_type": "stream",
          "name": "stdout",
          "text": [
            "Você chegou no 42! Pare a execução.\n",
            "i: 42\n",
            "Resultado: 1405006117752879898543142606244511569936384000000000\n",
            "CPU times: user 2.63 ms, sys: 0 ns, total: 2.63 ms\n",
            "Wall time: 2.88 ms\n"
          ]
        }
      ]
    },
    {
      "cell_type": "code",
      "source": [
        "#Continue\n",
        "\n",
        "i = 1\n",
        "result = 1\n",
        "\n",
        "while i < 20:\n",
        "  i+=1\n",
        "  if i%2==0:\n",
        "    print('Pular',i)\n",
        "    continue\n",
        "  print('Multiplica com',i)\n",
        "  result *=i\n",
        "\n",
        "print('i:',i)\n",
        "print('resultado:',result)"
      ],
      "metadata": {
        "colab": {
          "base_uri": "https://localhost:8080/"
        },
        "id": "S4wDjk4mcqCY",
        "outputId": "b5ab42fd-158f-4518-dd07-71e759eb2706"
      },
      "execution_count": null,
      "outputs": [
        {
          "output_type": "stream",
          "name": "stdout",
          "text": [
            "Pular 2\n",
            "Multiplica com 3\n",
            "Pular 4\n",
            "Multiplica com 5\n",
            "Pular 6\n",
            "Multiplica com 7\n",
            "Pular 8\n",
            "Multiplica com 9\n",
            "Pular 10\n",
            "Multiplica com 11\n",
            "Pular 12\n",
            "Multiplica com 13\n",
            "Pular 14\n",
            "Multiplica com 15\n",
            "Pular 16\n",
            "Multiplica com 17\n",
            "Pular 18\n",
            "Multiplica com 19\n",
            "Pular 20\n",
            "i: 20\n",
            "resultado: 654729075\n"
          ]
        }
      ]
    },
    {
      "cell_type": "code",
      "source": [
        "#crie um jogo para divinhar um numero de 1 a 5, utilize loop e break para encerrar o jogo quando acertar\n",
        "\n",
        "import random\n",
        "numero_aleatorio = random.randint(1,5)\n",
        "\n",
        "while True:\n",
        "  n = int(input('Digite um número de 1 a 5: '))\n",
        "  if n == numero_aleatorio:\n",
        "    print('Parabéns, você acertou!')\n",
        "    break\n",
        "  else:\n",
        "    print('Tente novamente.')\n"
      ],
      "metadata": {
        "colab": {
          "base_uri": "https://localhost:8080/"
        },
        "id": "VgYYb53uehPn",
        "outputId": "e960bd03-17f2-4c0a-93a9-cf6d76b0b6c8"
      },
      "execution_count": null,
      "outputs": [
        {
          "output_type": "stream",
          "name": "stdout",
          "text": [
            "Digite um número de 1 a 5: 5\n",
            "Tente novamente.\n",
            "Digite um número de 1 a 5: 4\n",
            "Parabéns, você acertou!\n"
          ]
        }
      ]
    },
    {
      "cell_type": "code",
      "source": [
        "#crie um programa que conta de 1 a 10, mas pula 3 e 7.utilize continue para implementar o pulo\n",
        "\n",
        "c=1\n",
        "\n",
        "while c <= 10:\n",
        "  if c == 3 or c == 7:\n",
        "    c += 1\n",
        "    continue\n",
        "  print(c)\n",
        "  c+=1"
      ],
      "metadata": {
        "colab": {
          "base_uri": "https://localhost:8080/"
        },
        "id": "s3eRvisMjpPv",
        "outputId": "73ea633f-ca41-49c8-a569-1f1fba43e263"
      },
      "execution_count": null,
      "outputs": [
        {
          "output_type": "stream",
          "name": "stdout",
          "text": [
            "1\n",
            "2\n",
            "4\n",
            "5\n",
            "6\n",
            "8\n",
            "9\n",
            "10\n"
          ]
        }
      ]
    },
    {
      "cell_type": "code",
      "source": [
        "#FOR\n",
        "\n",
        "dias = ['Segunda','Terça','Quarta','Quinta','Sexta']\n",
        "\n",
        "for dia in dias:\n",
        "  print(dia)"
      ],
      "metadata": {
        "colab": {
          "base_uri": "https://localhost:8080/"
        },
        "id": "51fEzQSmnRUo",
        "outputId": "25a9498d-ba4b-4b9f-95a9-8dafdaf50b5a"
      },
      "execution_count": null,
      "outputs": [
        {
          "output_type": "stream",
          "name": "stdout",
          "text": [
            "Segunda\n",
            "Terça\n",
            "Quarta\n",
            "Quinta\n",
            "Sexta\n"
          ]
        }
      ]
    },
    {
      "cell_type": "code",
      "source": [
        "#looping sobre a String\n",
        "\n",
        "for char in \"Segunda\":\n",
        "  print(char)"
      ],
      "metadata": {
        "colab": {
          "base_uri": "https://localhost:8080/"
        },
        "id": "T-4jBLJSoB7Y",
        "outputId": "44fb430b-d04d-49ef-ed08-7c9178f3d2cb"
      },
      "execution_count": null,
      "outputs": [
        {
          "output_type": "stream",
          "name": "stdout",
          "text": [
            "S\n",
            "e\n",
            "g\n",
            "u\n",
            "n\n",
            "d\n",
            "a\n"
          ]
        }
      ]
    },
    {
      "cell_type": "code",
      "source": [
        "#looping sobre tupla\n",
        "\n",
        "for fruta in ('Maça', 'Banana', 'Uva'):\n",
        "  print('A fruta é:',fruta)"
      ],
      "metadata": {
        "colab": {
          "base_uri": "https://localhost:8080/"
        },
        "id": "YOI0D_iMoxH4",
        "outputId": "e1b579d7-c1de-42bd-ac39-293e37087d0f"
      },
      "execution_count": null,
      "outputs": [
        {
          "output_type": "stream",
          "name": "stdout",
          "text": [
            "A fruta é: Maça\n",
            "A fruta é: Banana\n",
            "A fruta é: Uva\n"
          ]
        }
      ]
    },
    {
      "cell_type": "code",
      "source": [
        "#looping no dicionário\n",
        "person1 = {\n",
        "    'nome' : 'Douglas',\n",
        "    'sexo' : 'Masculino',\n",
        "    'idade' : 30,\n",
        "    'casado' : True\n",
        "}\n",
        "\n",
        "for key in person1:\n",
        "  print('Key:',key,', Value:',person1[key])"
      ],
      "metadata": {
        "colab": {
          "base_uri": "https://localhost:8080/"
        },
        "id": "Xa-gi8gypfz6",
        "outputId": "bff18df7-d117-4e54-fae1-d9de91680206"
      },
      "execution_count": null,
      "outputs": [
        {
          "output_type": "stream",
          "name": "stdout",
          "text": [
            "Key: nome , Value: Douglas\n",
            "Key: sexo , Value: Masculino\n",
            "Key: idade , Value: 30\n",
            "Key: casado , Value: True\n"
          ]
        }
      ]
    },
    {
      "cell_type": "code",
      "source": [
        "#Range\n",
        "\n",
        "for i in range(7):\n",
        "  print(i)\n",
        "print('\\n')\n",
        "for i in range(3,10):\n",
        "  print(i)\n",
        "print('\\n')\n",
        "for i in range(3,14,4):\n",
        "  print(i)"
      ],
      "metadata": {
        "colab": {
          "base_uri": "https://localhost:8080/"
        },
        "id": "CKS1cqDJRDd8",
        "outputId": "b00d1982-456e-4f27-e645-e38c6fe11324"
      },
      "execution_count": null,
      "outputs": [
        {
          "output_type": "stream",
          "name": "stdout",
          "text": [
            "0\n",
            "1\n",
            "2\n",
            "3\n",
            "4\n",
            "5\n",
            "6\n",
            "\n",
            "\n",
            "3\n",
            "4\n",
            "5\n",
            "6\n",
            "7\n",
            "8\n",
            "9\n",
            "\n",
            "\n",
            "3\n",
            "7\n",
            "11\n"
          ]
        }
      ]
    },
    {
      "cell_type": "code",
      "source": [
        "a_list = ['segunda','terça','quarta','quinta','sexta']\n",
        "for i in range(len(a_list)):\n",
        "  print('O valor na posição',i,'é',a_list[i])"
      ],
      "metadata": {
        "colab": {
          "base_uri": "https://localhost:8080/"
        },
        "id": "edc47MjtTDpE",
        "outputId": "7ec3e5f7-3b17-4eac-8641-2f2649383b00"
      },
      "execution_count": null,
      "outputs": [
        {
          "output_type": "stream",
          "name": "stdout",
          "text": [
            "O valor na posição 0 é segunda\n",
            "O valor na posição 1 é terça\n",
            "O valor na posição 2 é quarta\n",
            "O valor na posição 3 é quinta\n",
            "O valor na posição 4 é sexta\n"
          ]
        }
      ]
    },
    {
      "cell_type": "code",
      "source": [
        "persons = [{'nome':'willian','sexo':'Masculino'},{'nome':'Julia','sexo':'feminino'}]\n",
        "\n",
        "for person in persons:\n",
        "  for key in person:\n",
        "    print(key,':',person[key])\n",
        "  print('')"
      ],
      "metadata": {
        "colab": {
          "base_uri": "https://localhost:8080/"
        },
        "id": "s82ISPD9UzpE",
        "outputId": "4d497e55-e30d-484b-a065-5760f398bc66"
      },
      "execution_count": null,
      "outputs": [
        {
          "output_type": "stream",
          "name": "stdout",
          "text": [
            "nome : willian\n",
            "sexo : Masculino\n",
            "\n",
            "nome : Julia\n",
            "sexo : feminino\n",
            "\n"
          ]
        }
      ]
    },
    {
      "cell_type": "code",
      "source": [
        "#utilize o loop for para imprimir numeros de 1 a 5 em ordem crescente\n",
        "\n",
        "for i in range(1,6):\n",
        "  print(i)"
      ],
      "metadata": {
        "colab": {
          "base_uri": "https://localhost:8080/"
        },
        "id": "pFk7HU4WW2Xs",
        "outputId": "2dd35919-0f29-4c79-eb6c-e3c16ef949b3"
      },
      "execution_count": null,
      "outputs": [
        {
          "output_type": "stream",
          "name": "stdout",
          "text": [
            "1\n",
            "2\n",
            "3\n",
            "4\n",
            "5\n"
          ]
        }
      ]
    },
    {
      "cell_type": "code",
      "source": [
        "#solicite um numero e imprima sua tabuada usando for\n",
        "\n",
        "n = int(input('Digite um número para ver a tabuda: '))\n",
        "\n",
        "for i in range(1,11):\n",
        "  print(n,'x',i,'=',(i*n))"
      ],
      "metadata": {
        "colab": {
          "base_uri": "https://localhost:8080/"
        },
        "id": "7ouCk3CjYELs",
        "outputId": "c7d6d8c7-048c-4bab-89ea-805cc7ae7794"
      },
      "execution_count": null,
      "outputs": [
        {
          "output_type": "stream",
          "name": "stdout",
          "text": [
            "Digite um número para ver a tabuda: 25\n",
            "25 x 1 = 25\n",
            "25 x 2 = 50\n",
            "25 x 3 = 75\n",
            "25 x 4 = 100\n",
            "25 x 5 = 125\n",
            "25 x 6 = 150\n",
            "25 x 7 = 175\n",
            "25 x 8 = 200\n",
            "25 x 9 = 225\n",
            "25 x 10 = 250\n"
          ]
        }
      ]
    },
    {
      "cell_type": "code",
      "source": [
        "#percora os valores de 0 a 100 e imprima apenas os pares\n",
        "\n",
        "for i in range(101):\n",
        "  if i%2 == 0:\n",
        "    print(i)"
      ],
      "metadata": {
        "colab": {
          "base_uri": "https://localhost:8080/"
        },
        "id": "q-jg0dceaEgk",
        "outputId": "c7c7f5c5-2161-4802-e37b-d4bb29e0df47"
      },
      "execution_count": null,
      "outputs": [
        {
          "output_type": "stream",
          "name": "stdout",
          "text": [
            "0\n",
            "2\n",
            "4\n",
            "6\n",
            "8\n",
            "10\n",
            "12\n",
            "14\n",
            "16\n",
            "18\n",
            "20\n",
            "22\n",
            "24\n",
            "26\n",
            "28\n",
            "30\n",
            "32\n",
            "34\n",
            "36\n",
            "38\n",
            "40\n",
            "42\n",
            "44\n",
            "46\n",
            "48\n",
            "50\n",
            "52\n",
            "54\n",
            "56\n",
            "58\n",
            "60\n",
            "62\n",
            "64\n",
            "66\n",
            "68\n",
            "70\n",
            "72\n",
            "74\n",
            "76\n",
            "78\n",
            "80\n",
            "82\n",
            "84\n",
            "86\n",
            "88\n",
            "90\n",
            "92\n",
            "94\n",
            "96\n",
            "98\n",
            "100\n"
          ]
        }
      ]
    },
    {
      "cell_type": "code",
      "source": [
        "#escreva os caracteres de uma entrada string em linhas separadas\n",
        "\n",
        "e = input('Digite uma palavra: ')\n",
        "\n",
        "for letra in e:\n",
        "  print(letra)"
      ],
      "metadata": {
        "colab": {
          "base_uri": "https://localhost:8080/"
        },
        "id": "-ipvFZYxcIms",
        "outputId": "bd37934f-aed6-4918-f2df-c3915517147f"
      },
      "execution_count": null,
      "outputs": [
        {
          "output_type": "stream",
          "name": "stdout",
          "text": [
            "Digite uma palavra: python\n",
            "p\n",
            "y\n",
            "t\n",
            "h\n",
            "o\n",
            "n\n"
          ]
        }
      ]
    },
    {
      "cell_type": "code",
      "source": [
        "#definindo uma função\n",
        "def saudacao(nome):\n",
        "  print('Olá,',nome,'!')"
      ],
      "metadata": {
        "id": "G3nh95znf3gc"
      },
      "execution_count": null,
      "outputs": []
    },
    {
      "cell_type": "code",
      "source": [
        "#chamando a função\n",
        "saudacao('Alice')"
      ],
      "metadata": {
        "colab": {
          "base_uri": "https://localhost:8080/"
        },
        "id": "VzFvsOI9gHK0",
        "outputId": "0bedff94-4309-4635-a585-219b06231581"
      },
      "execution_count": null,
      "outputs": [
        {
          "output_type": "stream",
          "name": "stdout",
          "text": [
            "Olá, Alice !\n"
          ]
        }
      ]
    },
    {
      "cell_type": "code",
      "source": [
        "def print_dia(hoje):\n",
        "  print('Hoje é:',hoje)"
      ],
      "metadata": {
        "id": "t8rhvUh_g8Ss"
      },
      "execution_count": null,
      "outputs": []
    },
    {
      "cell_type": "code",
      "source": [
        "h=input('Digite o dia da semana:')\n",
        "print_dia(h)"
      ],
      "metadata": {
        "colab": {
          "base_uri": "https://localhost:8080/"
        },
        "id": "tcoOVDVgh1Lc",
        "outputId": "e10efc73-8665-4e2b-a442-2538a08dd0f4"
      },
      "execution_count": null,
      "outputs": [
        {
          "output_type": "stream",
          "name": "stdout",
          "text": [
            "Digite o dia da semana:sexta\n",
            "Hoje é: sexta\n"
          ]
        }
      ]
    },
    {
      "cell_type": "code",
      "source": [
        "#passar varios parametros\n",
        "def soma(a,b,c):\n",
        "  print('A soma total é:',a+b+c)"
      ],
      "metadata": {
        "id": "tLbarmdqivTl"
      },
      "execution_count": null,
      "outputs": []
    },
    {
      "cell_type": "code",
      "source": [
        "soma(4,6,4)"
      ],
      "metadata": {
        "colab": {
          "base_uri": "https://localhost:8080/"
        },
        "id": "b-9ptEIki6bL",
        "outputId": "c1dcf756-4b82-4ac7-a74b-a39b15490cc7"
      },
      "execution_count": null,
      "outputs": [
        {
          "output_type": "stream",
          "name": "stdout",
          "text": [
            "A soma total é: 14\n"
          ]
        }
      ]
    },
    {
      "cell_type": "code",
      "source": [
        "def soma(a,b,c):\n",
        "  return a+b+c"
      ],
      "metadata": {
        "id": "pHZUnuqcjzac"
      },
      "execution_count": null,
      "outputs": []
    },
    {
      "cell_type": "code",
      "source": [
        "print(soma(4,6,4))"
      ],
      "metadata": {
        "colab": {
          "base_uri": "https://localhost:8080/"
        },
        "id": "tvgI74bEj75z",
        "outputId": "490f2f93-7678-4a19-9b03-d0c8abdd53e0"
      },
      "execution_count": null,
      "outputs": [
        {
          "output_type": "stream",
          "name": "stdout",
          "text": [
            "14\n"
          ]
        }
      ]
    },
    {
      "cell_type": "code",
      "source": [
        "def soma_multiplicacao(a,b,c):\n",
        "  return (a+b+c),(a*b*c)"
      ],
      "metadata": {
        "id": "iFxM8W5Okocc"
      },
      "execution_count": null,
      "outputs": []
    },
    {
      "cell_type": "code",
      "source": [
        "soma,multiplicacao = soma_multiplicacao(1,1,1)\n",
        "print('A soma é',soma,'e a multiplicação é',multiplicacao)"
      ],
      "metadata": {
        "colab": {
          "base_uri": "https://localhost:8080/"
        },
        "id": "6ASf4FmGk0vs",
        "outputId": "358a8a1b-3201-4225-d6f2-256443f4f87c"
      },
      "execution_count": null,
      "outputs": [
        {
          "output_type": "stream",
          "name": "stdout",
          "text": [
            "A soma é 3 e a multiplicação é 1\n"
          ]
        }
      ]
    },
    {
      "cell_type": "code",
      "source": [
        "#faça um programa que faço o tratamento de texto, o final deve ser: minusculo, sem espaço no inicio e fim, não conter @\n",
        "\n",
        "def organizar_texto(texto):\n",
        "  return texto.strip().lower().replace('@','')"
      ],
      "metadata": {
        "id": "NgIXNI9XuDFM"
      },
      "execution_count": null,
      "outputs": []
    },
    {
      "cell_type": "code",
      "source": [
        "texto = input(\"digite uma frase para organizar: \")\n",
        "print(organizar_texto(texto))"
      ],
      "metadata": {
        "colab": {
          "base_uri": "https://localhost:8080/"
        },
        "id": "XepTtfD8upM9",
        "outputId": "38c4be21-411f-4c65-971d-cee3eb640ad9"
      },
      "execution_count": null,
      "outputs": [
        {
          "output_type": "stream",
          "name": "stdout",
          "text": [
            "digite uma frase para organizar:                     O Python é BacanA@\n",
            "o python é bacana\n"
          ]
        }
      ]
    },
    {
      "cell_type": "code",
      "source": [
        "#Testando função lambda - ainda sem aplica-la\n",
        "\n",
        "def quadrado(x):\n",
        "  return x**2\n",
        "\n",
        "print(quadrado(5))"
      ],
      "metadata": {
        "colab": {
          "base_uri": "https://localhost:8080/"
        },
        "id": "jEnG9Zw9y8te",
        "outputId": "f151c02d-7b45-4a3d-ad44-98ce074ca064"
      },
      "execution_count": null,
      "outputs": [
        {
          "output_type": "stream",
          "name": "stdout",
          "text": [
            "25\n"
          ]
        }
      ]
    },
    {
      "cell_type": "code",
      "source": [
        "#Testando função lambda\n",
        "\n",
        "quadrado_lambda = lambda x: x**2\n",
        "print(quadrado(5))"
      ],
      "metadata": {
        "colab": {
          "base_uri": "https://localhost:8080/"
        },
        "id": "GE0ZZz4vzwFj",
        "outputId": "8d3f59e5-4d24-46f0-f84d-f89bc7f070f1"
      },
      "execution_count": null,
      "outputs": [
        {
          "output_type": "stream",
          "name": "stdout",
          "text": [
            "25\n"
          ]
        }
      ]
    },
    {
      "cell_type": "code",
      "source": [
        "def soma(x,y):\n",
        "  return x+y\n",
        "\n",
        "print(soma(3,4))"
      ],
      "metadata": {
        "colab": {
          "base_uri": "https://localhost:8080/"
        },
        "id": "KJdtm7nK0Q1U",
        "outputId": "2127d836-9a7a-45cb-c38c-0ea92ca31598"
      },
      "execution_count": null,
      "outputs": [
        {
          "output_type": "stream",
          "name": "stdout",
          "text": [
            "7\n"
          ]
        }
      ]
    },
    {
      "cell_type": "code",
      "source": [
        "soma_lambda = lambda x,y: x+y\n",
        "print(soma_lambda(3,6))"
      ],
      "metadata": {
        "colab": {
          "base_uri": "https://localhost:8080/"
        },
        "id": "bLGvLK2z0fcE",
        "outputId": "f73fac66-cc3b-4f4b-8258-c78951531648"
      },
      "execution_count": null,
      "outputs": [
        {
          "output_type": "stream",
          "name": "stdout",
          "text": [
            "9\n"
          ]
        }
      ]
    },
    {
      "cell_type": "code",
      "source": [
        "#MAP\n",
        "numeros = [1,2,3,4,5]\n",
        "ao_quadrado = list(map(quadrado_lambda,numeros))\n",
        "print(ao_quadrado)"
      ],
      "metadata": {
        "colab": {
          "base_uri": "https://localhost:8080/"
        },
        "id": "q40fuVx92620",
        "outputId": "6648be35-835e-45d0-9004-c08e646d3047"
      },
      "execution_count": null,
      "outputs": [
        {
          "output_type": "stream",
          "name": "stdout",
          "text": [
            "[1, 4, 9, 16, 25]\n"
          ]
        }
      ]
    },
    {
      "cell_type": "code",
      "source": [
        "#filter\n",
        "pares = list(filter(lambda x:x%2 == 0,numeros))\n",
        "print(pares)"
      ],
      "metadata": {
        "colab": {
          "base_uri": "https://localhost:8080/"
        },
        "id": "3iOnk-2d3n4s",
        "outputId": "4cba82b0-83f9-4a11-bc53-897b67d786a3"
      },
      "execution_count": null,
      "outputs": [
        {
          "output_type": "stream",
          "name": "stdout",
          "text": [
            "[2, 4]\n"
          ]
        }
      ]
    },
    {
      "cell_type": "code",
      "source": [
        "from math import sqrt\n",
        "resultado = sqrt(25)\n",
        "print(resultado)"
      ],
      "metadata": {
        "colab": {
          "base_uri": "https://localhost:8080/"
        },
        "id": "1a1f94Wp6bmb",
        "outputId": "d7b63433-5a29-46b6-adf2-1e9b9c8b7f20"
      },
      "execution_count": null,
      "outputs": [
        {
          "output_type": "stream",
          "name": "stdout",
          "text": [
            "5.0\n"
          ]
        }
      ]
    }
  ]
}